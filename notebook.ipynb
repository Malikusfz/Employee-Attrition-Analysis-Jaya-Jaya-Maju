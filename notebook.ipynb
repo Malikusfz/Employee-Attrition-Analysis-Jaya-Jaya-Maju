{
 "cells": [
  {
   "cell_type": "markdown",
   "id": "54c18984",
   "metadata": {},
   "source": [
    "# Employee Attrition Analysis – Jaya Jaya Maju\n",
    "\n",
    "_Capstone submission – **Malikusfz**_"
   ]
  },
  {
   "cell_type": "markdown",
   "id": "3e7b1cc6",
   "metadata": {},
   "source": [
    "- **Name**: Maliku Syafaadi Nurfaza\n",
    "- **Email**: malikussyafaadinurfaza@gmail.com   \n",
    "- **Dicoding ID**: Malikusfz"
   ]
  },
  {
   "cell_type": "markdown",
   "id": "0e7b772f",
   "metadata": {},
   "source": [
    "## 1 Business Understanding\n",
    "Perusahaan mengalami attrition > 10 % (> 6 % rata‑rata industri).\n",
    "Target proyek:\n",
    "1. Identifikasi driver attrition.\n",
    "2. Dashboard real‑time HR.\n",
    "3. Model prediksi karyawan berisiko keluar."
   ]
  },
  {
   "cell_type": "markdown",
   "id": "181b7c69",
   "metadata": {},
   "source": [
    "## 2 Data Preparation"
   ]
  },
  {
   "cell_type": "markdown",
   "id": "bf79164c",
   "metadata": {},
   "source": [
    "### 2.1 Import Libraries"
   ]
  },
  {
   "cell_type": "code",
   "execution_count": null,
   "id": "2df6f44e",
   "metadata": {},
   "outputs": [
    {
     "name": "stderr",
     "output_type": "stream",
     "text": [
      "d:\\IDCamp\\Mahir\\#1\\.venv\\Lib\\site-packages\\tqdm\\auto.py:21: TqdmWarning: IProgress not found. Please update jupyter and ipywidgets. See https://ipywidgets.readthedocs.io/en/stable/user_install.html\n",
      "  from .autonotebook import tqdm as notebook_tqdm\n"
     ]
    }
   ],
   "source": [
    "import warnings, os, json, joblib, optuna, numpy as np, pandas as pd\n",
    "warnings.filterwarnings('ignore')\n",
    "\n",
    "import matplotlib.pyplot as plt, seaborn as sns\n",
    "sns.set_theme(style='whitegrid')\n",
    "\n",
    "from sklearn.model_selection import train_test_split\n",
    "from sklearn.metrics import (accuracy_score, precision_score, recall_score,\n",
    "                             f1_score, roc_auc_score, classification_report,\n",
    "                             confusion_matrix)\n",
    "from category_encoders.target_encoder import TargetEncoder\n",
    "\n",
    "from catboost import CatBoostClassifier, Pool, cv"
   ]
  },
  {
   "cell_type": "markdown",
   "id": "f20867d5",
   "metadata": {},
   "source": [
    "### 2.2 Load Dataset"
   ]
  },
  {
   "cell_type": "code",
   "execution_count": 63,
   "id": "4b70f090",
   "metadata": {},
   "outputs": [
    {
     "name": "stdout",
     "output_type": "stream",
     "text": [
      "Shape: (1058, 35)\n"
     ]
    },
    {
     "data": {
      "application/vnd.microsoft.datawrangler.viewer.v0+json": {
       "columns": [
        {
         "name": "index",
         "rawType": "int64",
         "type": "integer"
        },
        {
         "name": "EmployeeId",
         "rawType": "int64",
         "type": "integer"
        },
        {
         "name": "Age",
         "rawType": "int64",
         "type": "integer"
        },
        {
         "name": "Attrition",
         "rawType": "float64",
         "type": "float"
        },
        {
         "name": "BusinessTravel",
         "rawType": "object",
         "type": "string"
        },
        {
         "name": "DailyRate",
         "rawType": "int64",
         "type": "integer"
        },
        {
         "name": "Department",
         "rawType": "object",
         "type": "string"
        },
        {
         "name": "DistanceFromHome",
         "rawType": "int64",
         "type": "integer"
        },
        {
         "name": "Education",
         "rawType": "int64",
         "type": "integer"
        },
        {
         "name": "EducationField",
         "rawType": "object",
         "type": "string"
        },
        {
         "name": "EmployeeCount",
         "rawType": "int64",
         "type": "integer"
        },
        {
         "name": "EnvironmentSatisfaction",
         "rawType": "int64",
         "type": "integer"
        },
        {
         "name": "Gender",
         "rawType": "object",
         "type": "string"
        },
        {
         "name": "HourlyRate",
         "rawType": "int64",
         "type": "integer"
        },
        {
         "name": "JobInvolvement",
         "rawType": "int64",
         "type": "integer"
        },
        {
         "name": "JobLevel",
         "rawType": "int64",
         "type": "integer"
        },
        {
         "name": "JobRole",
         "rawType": "object",
         "type": "string"
        },
        {
         "name": "JobSatisfaction",
         "rawType": "int64",
         "type": "integer"
        },
        {
         "name": "MaritalStatus",
         "rawType": "object",
         "type": "string"
        },
        {
         "name": "MonthlyIncome",
         "rawType": "int64",
         "type": "integer"
        },
        {
         "name": "MonthlyRate",
         "rawType": "int64",
         "type": "integer"
        },
        {
         "name": "NumCompaniesWorked",
         "rawType": "int64",
         "type": "integer"
        },
        {
         "name": "Over18",
         "rawType": "object",
         "type": "string"
        },
        {
         "name": "OverTime",
         "rawType": "object",
         "type": "string"
        },
        {
         "name": "PercentSalaryHike",
         "rawType": "int64",
         "type": "integer"
        },
        {
         "name": "PerformanceRating",
         "rawType": "int64",
         "type": "integer"
        },
        {
         "name": "RelationshipSatisfaction",
         "rawType": "int64",
         "type": "integer"
        },
        {
         "name": "StandardHours",
         "rawType": "int64",
         "type": "integer"
        },
        {
         "name": "StockOptionLevel",
         "rawType": "int64",
         "type": "integer"
        },
        {
         "name": "TotalWorkingYears",
         "rawType": "int64",
         "type": "integer"
        },
        {
         "name": "TrainingTimesLastYear",
         "rawType": "int64",
         "type": "integer"
        },
        {
         "name": "WorkLifeBalance",
         "rawType": "int64",
         "type": "integer"
        },
        {
         "name": "YearsAtCompany",
         "rawType": "int64",
         "type": "integer"
        },
        {
         "name": "YearsInCurrentRole",
         "rawType": "int64",
         "type": "integer"
        },
        {
         "name": "YearsSinceLastPromotion",
         "rawType": "int64",
         "type": "integer"
        },
        {
         "name": "YearsWithCurrManager",
         "rawType": "int64",
         "type": "integer"
        }
       ],
       "conversionMethod": "pd.DataFrame",
       "ref": "81023371-6dba-447f-ab2f-87d70169207c",
       "rows": [
        [
         "1",
         "2",
         "37",
         "1.0",
         "Travel_Rarely",
         "1141",
         "Research & Development",
         "11",
         "2",
         "Medical",
         "1",
         "1",
         "Female",
         "61",
         "1",
         "2",
         "Healthcare Representative",
         "2",
         "Married",
         "4777",
         "14382",
         "5",
         "Y",
         "No",
         "15",
         "3",
         "1",
         "80",
         "0",
         "15",
         "2",
         "1",
         "1",
         "0",
         "0",
         "0"
        ],
        [
         "2",
         "3",
         "51",
         "1.0",
         "Travel_Rarely",
         "1323",
         "Research & Development",
         "4",
         "4",
         "Life Sciences",
         "1",
         "1",
         "Male",
         "34",
         "3",
         "1",
         "Research Scientist",
         "3",
         "Married",
         "2461",
         "10332",
         "9",
         "Y",
         "Yes",
         "12",
         "3",
         "3",
         "80",
         "3",
         "18",
         "2",
         "4",
         "10",
         "0",
         "2",
         "7"
        ],
        [
         "3",
         "4",
         "42",
         "0.0",
         "Travel_Frequently",
         "555",
         "Sales",
         "26",
         "3",
         "Marketing",
         "1",
         "3",
         "Female",
         "77",
         "3",
         "4",
         "Sales Executive",
         "2",
         "Married",
         "13525",
         "14864",
         "5",
         "Y",
         "No",
         "14",
         "3",
         "4",
         "80",
         "1",
         "23",
         "2",
         "4",
         "20",
         "4",
         "4",
         "8"
        ],
        [
         "6",
         "7",
         "40",
         "0.0",
         "Travel_Rarely",
         "1124",
         "Sales",
         "1",
         "2",
         "Medical",
         "1",
         "2",
         "Male",
         "57",
         "1",
         "2",
         "Sales Executive",
         "4",
         "Married",
         "7457",
         "13273",
         "2",
         "Y",
         "Yes",
         "22",
         "4",
         "3",
         "80",
         "3",
         "6",
         "2",
         "2",
         "4",
         "3",
         "0",
         "2"
        ],
        [
         "7",
         "8",
         "55",
         "1.0",
         "Travel_Rarely",
         "725",
         "Research & Development",
         "2",
         "3",
         "Medical",
         "1",
         "4",
         "Male",
         "78",
         "3",
         "5",
         "Manager",
         "1",
         "Married",
         "19859",
         "21199",
         "5",
         "Y",
         "Yes",
         "13",
         "3",
         "4",
         "80",
         "1",
         "24",
         "2",
         "3",
         "5",
         "2",
         "1",
         "4"
        ]
       ],
       "shape": {
        "columns": 35,
        "rows": 5
       }
      },
      "text/html": [
       "<div>\n",
       "<style scoped>\n",
       "    .dataframe tbody tr th:only-of-type {\n",
       "        vertical-align: middle;\n",
       "    }\n",
       "\n",
       "    .dataframe tbody tr th {\n",
       "        vertical-align: top;\n",
       "    }\n",
       "\n",
       "    .dataframe thead th {\n",
       "        text-align: right;\n",
       "    }\n",
       "</style>\n",
       "<table border=\"1\" class=\"dataframe\">\n",
       "  <thead>\n",
       "    <tr style=\"text-align: right;\">\n",
       "      <th></th>\n",
       "      <th>EmployeeId</th>\n",
       "      <th>Age</th>\n",
       "      <th>Attrition</th>\n",
       "      <th>BusinessTravel</th>\n",
       "      <th>DailyRate</th>\n",
       "      <th>Department</th>\n",
       "      <th>DistanceFromHome</th>\n",
       "      <th>Education</th>\n",
       "      <th>EducationField</th>\n",
       "      <th>EmployeeCount</th>\n",
       "      <th>...</th>\n",
       "      <th>RelationshipSatisfaction</th>\n",
       "      <th>StandardHours</th>\n",
       "      <th>StockOptionLevel</th>\n",
       "      <th>TotalWorkingYears</th>\n",
       "      <th>TrainingTimesLastYear</th>\n",
       "      <th>WorkLifeBalance</th>\n",
       "      <th>YearsAtCompany</th>\n",
       "      <th>YearsInCurrentRole</th>\n",
       "      <th>YearsSinceLastPromotion</th>\n",
       "      <th>YearsWithCurrManager</th>\n",
       "    </tr>\n",
       "  </thead>\n",
       "  <tbody>\n",
       "    <tr>\n",
       "      <th>1</th>\n",
       "      <td>2</td>\n",
       "      <td>37</td>\n",
       "      <td>1.0</td>\n",
       "      <td>Travel_Rarely</td>\n",
       "      <td>1141</td>\n",
       "      <td>Research &amp; Development</td>\n",
       "      <td>11</td>\n",
       "      <td>2</td>\n",
       "      <td>Medical</td>\n",
       "      <td>1</td>\n",
       "      <td>...</td>\n",
       "      <td>1</td>\n",
       "      <td>80</td>\n",
       "      <td>0</td>\n",
       "      <td>15</td>\n",
       "      <td>2</td>\n",
       "      <td>1</td>\n",
       "      <td>1</td>\n",
       "      <td>0</td>\n",
       "      <td>0</td>\n",
       "      <td>0</td>\n",
       "    </tr>\n",
       "    <tr>\n",
       "      <th>2</th>\n",
       "      <td>3</td>\n",
       "      <td>51</td>\n",
       "      <td>1.0</td>\n",
       "      <td>Travel_Rarely</td>\n",
       "      <td>1323</td>\n",
       "      <td>Research &amp; Development</td>\n",
       "      <td>4</td>\n",
       "      <td>4</td>\n",
       "      <td>Life Sciences</td>\n",
       "      <td>1</td>\n",
       "      <td>...</td>\n",
       "      <td>3</td>\n",
       "      <td>80</td>\n",
       "      <td>3</td>\n",
       "      <td>18</td>\n",
       "      <td>2</td>\n",
       "      <td>4</td>\n",
       "      <td>10</td>\n",
       "      <td>0</td>\n",
       "      <td>2</td>\n",
       "      <td>7</td>\n",
       "    </tr>\n",
       "    <tr>\n",
       "      <th>3</th>\n",
       "      <td>4</td>\n",
       "      <td>42</td>\n",
       "      <td>0.0</td>\n",
       "      <td>Travel_Frequently</td>\n",
       "      <td>555</td>\n",
       "      <td>Sales</td>\n",
       "      <td>26</td>\n",
       "      <td>3</td>\n",
       "      <td>Marketing</td>\n",
       "      <td>1</td>\n",
       "      <td>...</td>\n",
       "      <td>4</td>\n",
       "      <td>80</td>\n",
       "      <td>1</td>\n",
       "      <td>23</td>\n",
       "      <td>2</td>\n",
       "      <td>4</td>\n",
       "      <td>20</td>\n",
       "      <td>4</td>\n",
       "      <td>4</td>\n",
       "      <td>8</td>\n",
       "    </tr>\n",
       "    <tr>\n",
       "      <th>6</th>\n",
       "      <td>7</td>\n",
       "      <td>40</td>\n",
       "      <td>0.0</td>\n",
       "      <td>Travel_Rarely</td>\n",
       "      <td>1124</td>\n",
       "      <td>Sales</td>\n",
       "      <td>1</td>\n",
       "      <td>2</td>\n",
       "      <td>Medical</td>\n",
       "      <td>1</td>\n",
       "      <td>...</td>\n",
       "      <td>3</td>\n",
       "      <td>80</td>\n",
       "      <td>3</td>\n",
       "      <td>6</td>\n",
       "      <td>2</td>\n",
       "      <td>2</td>\n",
       "      <td>4</td>\n",
       "      <td>3</td>\n",
       "      <td>0</td>\n",
       "      <td>2</td>\n",
       "    </tr>\n",
       "    <tr>\n",
       "      <th>7</th>\n",
       "      <td>8</td>\n",
       "      <td>55</td>\n",
       "      <td>1.0</td>\n",
       "      <td>Travel_Rarely</td>\n",
       "      <td>725</td>\n",
       "      <td>Research &amp; Development</td>\n",
       "      <td>2</td>\n",
       "      <td>3</td>\n",
       "      <td>Medical</td>\n",
       "      <td>1</td>\n",
       "      <td>...</td>\n",
       "      <td>4</td>\n",
       "      <td>80</td>\n",
       "      <td>1</td>\n",
       "      <td>24</td>\n",
       "      <td>2</td>\n",
       "      <td>3</td>\n",
       "      <td>5</td>\n",
       "      <td>2</td>\n",
       "      <td>1</td>\n",
       "      <td>4</td>\n",
       "    </tr>\n",
       "  </tbody>\n",
       "</table>\n",
       "<p>5 rows × 35 columns</p>\n",
       "</div>"
      ],
      "text/plain": [
       "   EmployeeId  Age  Attrition     BusinessTravel  DailyRate  \\\n",
       "1           2   37        1.0      Travel_Rarely       1141   \n",
       "2           3   51        1.0      Travel_Rarely       1323   \n",
       "3           4   42        0.0  Travel_Frequently        555   \n",
       "6           7   40        0.0      Travel_Rarely       1124   \n",
       "7           8   55        1.0      Travel_Rarely        725   \n",
       "\n",
       "               Department  DistanceFromHome  Education EducationField  \\\n",
       "1  Research & Development                11          2        Medical   \n",
       "2  Research & Development                 4          4  Life Sciences   \n",
       "3                   Sales                26          3      Marketing   \n",
       "6                   Sales                 1          2        Medical   \n",
       "7  Research & Development                 2          3        Medical   \n",
       "\n",
       "   EmployeeCount  ...  RelationshipSatisfaction StandardHours  \\\n",
       "1              1  ...                         1            80   \n",
       "2              1  ...                         3            80   \n",
       "3              1  ...                         4            80   \n",
       "6              1  ...                         3            80   \n",
       "7              1  ...                         4            80   \n",
       "\n",
       "   StockOptionLevel  TotalWorkingYears  TrainingTimesLastYear WorkLifeBalance  \\\n",
       "1                 0                 15                      2               1   \n",
       "2                 3                 18                      2               4   \n",
       "3                 1                 23                      2               4   \n",
       "6                 3                  6                      2               2   \n",
       "7                 1                 24                      2               3   \n",
       "\n",
       "   YearsAtCompany YearsInCurrentRole  YearsSinceLastPromotion  \\\n",
       "1               1                  0                        0   \n",
       "2              10                  0                        2   \n",
       "3              20                  4                        4   \n",
       "6               4                  3                        0   \n",
       "7               5                  2                        1   \n",
       "\n",
       "   YearsWithCurrManager  \n",
       "1                     0  \n",
       "2                     7  \n",
       "3                     8  \n",
       "6                     2  \n",
       "7                     4  \n",
       "\n",
       "[5 rows x 35 columns]"
      ]
     },
     "execution_count": 63,
     "metadata": {},
     "output_type": "execute_result"
    }
   ],
   "source": [
    "DATA_PATH = 'employee_data.csv'\n",
    "TARGET    = 'Attrition'\n",
    "\n",
    "df = pd.read_csv(DATA_PATH).dropna(subset=[TARGET])\n",
    "print('Shape:', df.shape)\n",
    "df.head()"
   ]
  },
  {
   "cell_type": "markdown",
   "id": "c7b64b9d",
   "metadata": {},
   "source": [
    "### 2.3 Feature Engineering"
   ]
  },
  {
   "cell_type": "code",
   "execution_count": null,
   "id": "d9b00c64",
   "metadata": {},
   "outputs": [
    {
     "name": "stdout",
     "output_type": "stream",
     "text": [
      "Categorical: 11 | Numerical: 27\n"
     ]
    }
   ],
   "source": [
    "cat_cols = df.select_dtypes('object').columns.tolist()\n",
    "num_cols = [c for c in df.columns if c not in cat_cols + [TARGET]]\n",
    "\n",
    "df['TenureBucket'] = pd.cut(df['YearsAtCompany'], [0,2,5,10,40], labels=False)\n",
    "df['AgeBucket']    = pd.cut(df['Age'], [17,25,35,45,60], labels=False)\n",
    "\n",
    "df['OT_JobLevel']  = df['OverTime'] + '_' + df['JobLevel'].astype(str)\n",
    "df['IncomePerYear']= df['MonthlyIncome'] / (df['TotalWorkingYears']+1)\n",
    "\n",
    "cat_cols += ['TenureBucket','AgeBucket','OT_JobLevel']\n",
    "num_cols += ['IncomePerYear']\n",
    "print('Categorical:', len(cat_cols),'| Numerical:', len(num_cols))"
   ]
  },
  {
   "cell_type": "markdown",
   "id": "f81716f7",
   "metadata": {},
   "source": [
    "## 3 Exploratory Data Analysis"
   ]
  },
  {
   "cell_type": "code",
   "execution_count": null,
   "id": "19049245",
   "metadata": {},
   "outputs": [
    {
     "data": {
      "image/png": "[encoded data removed]",
      "text/plain": [
       "<Figure size 600x300 with 1 Axes>"
      ]
     },
     "metadata": {},
     "output_type": "display_data"
    },
    {
     "data": {
      "image/png": "[encoded data removed]",
      "text/plain": [
       "<Figure size 640x480 with 1 Axes>"
      ]
     },
     "metadata": {},
     "output_type": "display_data"
    },
    {
     "data": {
      "text/plain": [
       "Attrition\n",
       "0.0    83.081285\n",
       "1.0    16.918715\n",
       "Name: proportion, dtype: float64"
      ]
     },
     "execution_count": 65,
     "metadata": {},
     "output_type": "execute_result"
    }
   ],
   "source": [
    "plt.figure(figsize=(6,3)); sns.heatmap(df.isna(), cbar=False); plt.title('Missing'); plt.show()\n",
    "\n",
    "sns.countplot(x=TARGET, data=df); plt.title('Attrition'); plt.show()\n",
    "df[TARGET].value_counts(normalize=True)*100"
   ]
  },
  {
   "cell_type": "code",
   "execution_count": 66,
   "id": "909527b7",
   "metadata": {},
   "outputs": [
    {
     "data": {
      "application/vnd.microsoft.datawrangler.viewer.v0+json": {
       "columns": [
        {
         "name": "index",
         "rawType": "object",
         "type": "string"
        },
        {
         "name": "count",
         "rawType": "float64",
         "type": "float"
        },
        {
         "name": "mean",
         "rawType": "float64",
         "type": "float"
        },
        {
         "name": "std",
         "rawType": "float64",
         "type": "float"
        },
        {
         "name": "min",
         "rawType": "float64",
         "type": "float"
        },
        {
         "name": "25%",
         "rawType": "float64",
         "type": "float"
        },
        {
         "name": "50%",
         "rawType": "float64",
         "type": "float"
        },
        {
         "name": "75%",
         "rawType": "float64",
         "type": "float"
        },
        {
         "name": "max",
         "rawType": "float64",
         "type": "float"
        }
       ],
       "conversionMethod": "pd.DataFrame",
       "ref": "d4a29d39-df73-40d6-a740-73364f99d921",
       "rows": [
        [
         "EmployeeId",
         "1058.0",
         "736.6568998109641",
         "427.4405383961174",
         "2.0",
         "364.25",
         "731.5",
         "1117.75",
         "1470.0"
        ],
        [
         "Age",
         "1058.0",
         "37.055765595463136",
         "9.410420653104225",
         "18.0",
         "30.0",
         "36.0",
         "43.0",
         "60.0"
        ],
        [
         "DailyRate",
         "1058.0",
         "809.5425330812855",
         "408.4780490345314",
         "102.0",
         "465.25",
         "817.5",
         "1168.5",
         "1499.0"
        ],
        [
         "DistanceFromHome",
         "1058.0",
         "8.978260869565217",
         "8.040607676475762",
         "1.0",
         "2.0",
         "7.0",
         "13.0",
         "29.0"
        ],
        [
         "Education",
         "1058.0",
         "2.8790170132325144",
         "1.0314423853143946",
         "1.0",
         "2.0",
         "3.0",
         "4.0",
         "5.0"
        ],
        [
         "EmployeeCount",
         "1058.0",
         "1.0",
         "0.0",
         "1.0",
         "1.0",
         "1.0",
         "1.0",
         "1.0"
        ],
        [
         "EnvironmentSatisfaction",
         "1058.0",
         "2.712665406427221",
         "1.0929594429569627",
         "1.0",
         "2.0",
         "3.0",
         "4.0",
         "4.0"
        ],
        [
         "HourlyRate",
         "1058.0",
         "65.64366729678639",
         "20.32486075202727",
         "30.0",
         "48.0",
         "65.0",
         "83.0",
         "100.0"
        ],
        [
         "JobInvolvement",
         "1058.0",
         "2.7372400756143667",
         "0.7047297575951421",
         "1.0",
         "2.0",
         "3.0",
         "3.0",
         "4.0"
        ],
        [
         "JobLevel",
         "1058.0",
         "2.0907372400756143",
         "1.136514125132244",
         "1.0",
         "1.0",
         "2.0",
         "3.0",
         "5.0"
        ],
        [
         "JobSatisfaction",
         "1058.0",
         "2.7495274102079397",
         "1.1041440662007402",
         "1.0",
         "2.0",
         "3.0",
         "4.0",
         "4.0"
        ],
        [
         "MonthlyIncome",
         "1058.0",
         "6625.945179584121",
         "4837.69504221744",
         "1009.0",
         "2900.25",
         "4903.5",
         "8736.5",
         "19999.0"
        ],
        [
         "MonthlyRate",
         "1058.0",
         "14267.281663516069",
         "7048.077304870105",
         "2094.0",
         "8277.25",
         "14201.0",
         "20364.0",
         "26999.0"
        ],
        [
         "NumCompaniesWorked",
         "1058.0",
         "2.7069943289224954",
         "2.5235256834607545",
         "0.0",
         "1.0",
         "2.0",
         "4.0",
         "9.0"
        ],
        [
         "PercentSalaryHike",
         "1058.0",
         "15.155954631379963",
         "3.64109669374878",
         "11.0",
         "12.0",
         "14.0",
         "18.0",
         "25.0"
        ],
        [
         "PerformanceRating",
         "1058.0",
         "3.1502835538752363",
         "0.3575181385979255",
         "3.0",
         "3.0",
         "3.0",
         "3.0",
         "4.0"
        ],
        [
         "RelationshipSatisfaction",
         "1058.0",
         "2.726843100189036",
         "1.0909699259524386",
         "1.0",
         "2.0",
         "3.0",
         "4.0",
         "4.0"
        ],
        [
         "StandardHours",
         "1058.0",
         "80.0",
         "0.0",
         "80.0",
         "80.0",
         "80.0",
         "80.0",
         "80.0"
        ],
        [
         "StockOptionLevel",
         "1058.0",
         "0.7627599243856332",
         "0.8375374663788259",
         "0.0",
         "0.0",
         "1.0",
         "1.0",
         "3.0"
        ],
        [
         "TotalWorkingYears",
         "1058.0",
         "11.435727788279774",
         "8.016428819704203",
         "0.0",
         "6.0",
         "10.0",
         "16.0",
         "40.0"
        ],
        [
         "TrainingTimesLastYear",
         "1058.0",
         "2.76937618147448",
         "1.3026890855546644",
         "0.0",
         "2.0",
         "3.0",
         "3.0",
         "6.0"
        ],
        [
         "WorkLifeBalance",
         "1058.0",
         "2.7637051039697544",
         "0.7073918917724131",
         "1.0",
         "2.0",
         "3.0",
         "3.0",
         "4.0"
        ],
        [
         "YearsAtCompany",
         "1058.0",
         "7.065217391304348",
         "6.265227429218329",
         "0.0",
         "3.0",
         "5.0",
         "9.0",
         "40.0"
        ],
        [
         "YearsInCurrentRole",
         "1058.0",
         "4.260869565217392",
         "3.617470485744395",
         "0.0",
         "2.0",
         "3.0",
         "7.0",
         "18.0"
        ],
        [
         "YearsSinceLastPromotion",
         "1058.0",
         "2.2032136105860114",
         "3.266948250877426",
         "0.0",
         "0.0",
         "1.0",
         "3.0",
         "15.0"
        ],
        [
         "YearsWithCurrManager",
         "1058.0",
         "4.142722117202268",
         "3.5990444648390763",
         "0.0",
         "2.0",
         "3.0",
         "7.0",
         "17.0"
        ],
        [
         "IncomePerYear",
         "1058.0",
         "591.8254295152694",
         "287.28716467904746",
         "104.3",
         "374.2321428571429",
         "560.4506578947369",
         "746.0326086956522",
         "1904.0"
        ]
       ],
       "shape": {
        "columns": 8,
        "rows": 27
       }
      },
      "text/html": [
       "<div>\n",
       "<style scoped>\n",
       "    .dataframe tbody tr th:only-of-type {\n",
       "        vertical-align: middle;\n",
       "    }\n",
       "\n",
       "    .dataframe tbody tr th {\n",
       "        vertical-align: top;\n",
       "    }\n",
       "\n",
       "    .dataframe thead th {\n",
       "        text-align: right;\n",
       "    }\n",
       "</style>\n",
       "<table border=\"1\" class=\"dataframe\">\n",
       "  <thead>\n",
       "    <tr style=\"text-align: right;\">\n",
       "      <th></th>\n",
       "      <th>count</th>\n",
       "      <th>mean</th>\n",
       "      <th>std</th>\n",
       "      <th>min</th>\n",
       "      <th>25%</th>\n",
       "      <th>50%</th>\n",
       "      <th>75%</th>\n",
       "      <th>max</th>\n",
       "    </tr>\n",
       "  </thead>\n",
       "  <tbody>\n",
       "    <tr>\n",
       "      <th>EmployeeId</th>\n",
       "      <td>1058.0</td>\n",
       "      <td>736.656900</td>\n",
       "      <td>427.440538</td>\n",
       "      <td>2.0</td>\n",
       "      <td>364.250000</td>\n",
       "      <td>731.500000</td>\n",
       "      <td>1117.750000</td>\n",
       "      <td>1470.0</td>\n",
       "    </tr>\n",
       "    <tr>\n",
       "      <th>Age</th>\n",
       "      <td>1058.0</td>\n",
       "      <td>37.055766</td>\n",
       "      <td>9.410421</td>\n",
       "      <td>18.0</td>\n",
       "      <td>30.000000</td>\n",
       "      <td>36.000000</td>\n",
       "      <td>43.000000</td>\n",
       "      <td>60.0</td>\n",
       "    </tr>\n",
       "    <tr>\n",
       "      <th>DailyRate</th>\n",
       "      <td>1058.0</td>\n",
       "      <td>809.542533</td>\n",
       "      <td>408.478049</td>\n",
       "      <td>102.0</td>\n",
       "      <td>465.250000</td>\n",
       "      <td>817.500000</td>\n",
       "      <td>1168.500000</td>\n",
       "      <td>1499.0</td>\n",
       "    </tr>\n",
       "    <tr>\n",
       "      <th>DistanceFromHome</th>\n",
       "      <td>1058.0</td>\n",
       "      <td>8.978261</td>\n",
       "      <td>8.040608</td>\n",
       "      <td>1.0</td>\n",
       "      <td>2.000000</td>\n",
       "      <td>7.000000</td>\n",
       "      <td>13.000000</td>\n",
       "      <td>29.0</td>\n",
       "    </tr>\n",
       "    <tr>\n",
       "      <th>Education</th>\n",
       "      <td>1058.0</td>\n",
       "      <td>2.879017</td>\n",
       "      <td>1.031442</td>\n",
       "      <td>1.0</td>\n",
       "      <td>2.000000</td>\n",
       "      <td>3.000000</td>\n",
       "      <td>4.000000</td>\n",
       "      <td>5.0</td>\n",
       "    </tr>\n",
       "    <tr>\n",
       "      <th>EmployeeCount</th>\n",
       "      <td>1058.0</td>\n",
       "      <td>1.000000</td>\n",
       "      <td>0.000000</td>\n",
       "      <td>1.0</td>\n",
       "      <td>1.000000</td>\n",
       "      <td>1.000000</td>\n",
       "      <td>1.000000</td>\n",
       "      <td>1.0</td>\n",
       "    </tr>\n",
       "    <tr>\n",
       "      <th>EnvironmentSatisfaction</th>\n",
       "      <td>1058.0</td>\n",
       "      <td>2.712665</td>\n",
       "      <td>1.092959</td>\n",
       "      <td>1.0</td>\n",
       "      <td>2.000000</td>\n",
       "      <td>3.000000</td>\n",
       "      <td>4.000000</td>\n",
       "      <td>4.0</td>\n",
       "    </tr>\n",
       "    <tr>\n",
       "      <th>HourlyRate</th>\n",
       "      <td>1058.0</td>\n",
       "      <td>65.643667</td>\n",
       "      <td>20.324861</td>\n",
       "      <td>30.0</td>\n",
       "      <td>48.000000</td>\n",
       "      <td>65.000000</td>\n",
       "      <td>83.000000</td>\n",
       "      <td>100.0</td>\n",
       "    </tr>\n",
       "    <tr>\n",
       "      <th>JobInvolvement</th>\n",
       "      <td>1058.0</td>\n",
       "      <td>2.737240</td>\n",
       "      <td>0.704730</td>\n",
       "      <td>1.0</td>\n",
       "      <td>2.000000</td>\n",
       "      <td>3.000000</td>\n",
       "      <td>3.000000</td>\n",
       "      <td>4.0</td>\n",
       "    </tr>\n",
       "    <tr>\n",
       "      <th>JobLevel</th>\n",
       "      <td>1058.0</td>\n",
       "      <td>2.090737</td>\n",
       "      <td>1.136514</td>\n",
       "      <td>1.0</td>\n",
       "      <td>1.000000</td>\n",
       "      <td>2.000000</td>\n",
       "      <td>3.000000</td>\n",
       "      <td>5.0</td>\n",
       "    </tr>\n",
       "    <tr>\n",
       "      <th>JobSatisfaction</th>\n",
       "      <td>1058.0</td>\n",
       "      <td>2.749527</td>\n",
       "      <td>1.104144</td>\n",
       "      <td>1.0</td>\n",
       "      <td>2.000000</td>\n",
       "      <td>3.000000</td>\n",
       "      <td>4.000000</td>\n",
       "      <td>4.0</td>\n",
       "    </tr>\n",
       "    <tr>\n",
       "      <th>MonthlyIncome</th>\n",
       "      <td>1058.0</td>\n",
       "      <td>6625.945180</td>\n",
       "      <td>4837.695042</td>\n",
       "      <td>1009.0</td>\n",
       "      <td>2900.250000</td>\n",
       "      <td>4903.500000</td>\n",
       "      <td>8736.500000</td>\n",
       "      <td>19999.0</td>\n",
       "    </tr>\n",
       "    <tr>\n",
       "      <th>MonthlyRate</th>\n",
       "      <td>1058.0</td>\n",
       "      <td>14267.281664</td>\n",
       "      <td>7048.077305</td>\n",
       "      <td>2094.0</td>\n",
       "      <td>8277.250000</td>\n",
       "      <td>14201.000000</td>\n",
       "      <td>20364.000000</td>\n",
       "      <td>26999.0</td>\n",
       "    </tr>\n",
       "    <tr>\n",
       "      <th>NumCompaniesWorked</th>\n",
       "      <td>1058.0</td>\n",
       "      <td>2.706994</td>\n",
       "      <td>2.523526</td>\n",
       "      <td>0.0</td>\n",
       "      <td>1.000000</td>\n",
       "      <td>2.000000</td>\n",
       "      <td>4.000000</td>\n",
       "      <td>9.0</td>\n",
       "    </tr>\n",
       "    <tr>\n",
       "      <th>PercentSalaryHike</th>\n",
       "      <td>1058.0</td>\n",
       "      <td>15.155955</td>\n",
       "      <td>3.641097</td>\n",
       "      <td>11.0</td>\n",
       "      <td>12.000000</td>\n",
       "      <td>14.000000</td>\n",
       "      <td>18.000000</td>\n",
       "      <td>25.0</td>\n",
       "    </tr>\n",
       "    <tr>\n",
       "      <th>PerformanceRating</th>\n",
       "      <td>1058.0</td>\n",
       "      <td>3.150284</td>\n",
       "      <td>0.357518</td>\n",
       "      <td>3.0</td>\n",
       "      <td>3.000000</td>\n",
       "      <td>3.000000</td>\n",
       "      <td>3.000000</td>\n",
       "      <td>4.0</td>\n",
       "    </tr>\n",
       "    <tr>\n",
       "      <th>RelationshipSatisfaction</th>\n",
       "      <td>1058.0</td>\n",
       "      <td>2.726843</td>\n",
       "      <td>1.090970</td>\n",
       "      <td>1.0</td>\n",
       "      <td>2.000000</td>\n",
       "      <td>3.000000</td>\n",
       "      <td>4.000000</td>\n",
       "      <td>4.0</td>\n",
       "    </tr>\n",
       "    <tr>\n",
       "      <th>StandardHours</th>\n",
       "      <td>1058.0</td>\n",
       "      <td>80.000000</td>\n",
       "      <td>0.000000</td>\n",
       "      <td>80.0</td>\n",
       "      <td>80.000000</td>\n",
       "      <td>80.000000</td>\n",
       "      <td>80.000000</td>\n",
       "      <td>80.0</td>\n",
       "    </tr>\n",
       "    <tr>\n",
       "      <th>StockOptionLevel</th>\n",
       "      <td>1058.0</td>\n",
       "      <td>0.762760</td>\n",
       "      <td>0.837537</td>\n",
       "      <td>0.0</td>\n",
       "      <td>0.000000</td>\n",
       "      <td>1.000000</td>\n",
       "      <td>1.000000</td>\n",
       "      <td>3.0</td>\n",
       "    </tr>\n",
       "    <tr>\n",
       "      <th>TotalWorkingYears</th>\n",
       "      <td>1058.0</td>\n",
       "      <td>11.435728</td>\n",
       "      <td>8.016429</td>\n",
       "      <td>0.0</td>\n",
       "      <td>6.000000</td>\n",
       "      <td>10.000000</td>\n",
       "      <td>16.000000</td>\n",
       "      <td>40.0</td>\n",
       "    </tr>\n",
       "    <tr>\n",
       "      <th>TrainingTimesLastYear</th>\n",
       "      <td>1058.0</td>\n",
       "      <td>2.769376</td>\n",
       "      <td>1.302689</td>\n",
       "      <td>0.0</td>\n",
       "      <td>2.000000</td>\n",
       "      <td>3.000000</td>\n",
       "      <td>3.000000</td>\n",
       "      <td>6.0</td>\n",
       "    </tr>\n",
       "    <tr>\n",
       "      <th>WorkLifeBalance</th>\n",
       "      <td>1058.0</td>\n",
       "      <td>2.763705</td>\n",
       "      <td>0.707392</td>\n",
       "      <td>1.0</td>\n",
       "      <td>2.000000</td>\n",
       "      <td>3.000000</td>\n",
       "      <td>3.000000</td>\n",
       "      <td>4.0</td>\n",
       "    </tr>\n",
       "    <tr>\n",
       "      <th>YearsAtCompany</th>\n",
       "      <td>1058.0</td>\n",
       "      <td>7.065217</td>\n",
       "      <td>6.265227</td>\n",
       "      <td>0.0</td>\n",
       "      <td>3.000000</td>\n",
       "      <td>5.000000</td>\n",
       "      <td>9.000000</td>\n",
       "      <td>40.0</td>\n",
       "    </tr>\n",
       "    <tr>\n",
       "      <th>YearsInCurrentRole</th>\n",
       "      <td>1058.0</td>\n",
       "      <td>4.260870</td>\n",
       "      <td>3.617470</td>\n",
       "      <td>0.0</td>\n",
       "      <td>2.000000</td>\n",
       "      <td>3.000000</td>\n",
       "      <td>7.000000</td>\n",
       "      <td>18.0</td>\n",
       "    </tr>\n",
       "    <tr>\n",
       "      <th>YearsSinceLastPromotion</th>\n",
       "      <td>1058.0</td>\n",
       "      <td>2.203214</td>\n",
       "      <td>3.266948</td>\n",
       "      <td>0.0</td>\n",
       "      <td>0.000000</td>\n",
       "      <td>1.000000</td>\n",
       "      <td>3.000000</td>\n",
       "      <td>15.0</td>\n",
       "    </tr>\n",
       "    <tr>\n",
       "      <th>YearsWithCurrManager</th>\n",
       "      <td>1058.0</td>\n",
       "      <td>4.142722</td>\n",
       "      <td>3.599044</td>\n",
       "      <td>0.0</td>\n",
       "      <td>2.000000</td>\n",
       "      <td>3.000000</td>\n",
       "      <td>7.000000</td>\n",
       "      <td>17.0</td>\n",
       "    </tr>\n",
       "    <tr>\n",
       "      <th>IncomePerYear</th>\n",
       "      <td>1058.0</td>\n",
       "      <td>591.825430</td>\n",
       "      <td>287.287165</td>\n",
       "      <td>104.3</td>\n",
       "      <td>374.232143</td>\n",
       "      <td>560.450658</td>\n",
       "      <td>746.032609</td>\n",
       "      <td>1904.0</td>\n",
       "    </tr>\n",
       "  </tbody>\n",
       "</table>\n",
       "</div>"
      ],
      "text/plain": [
       "                           count          mean          std     min  \\\n",
       "EmployeeId                1058.0    736.656900   427.440538     2.0   \n",
       "Age                       1058.0     37.055766     9.410421    18.0   \n",
       "DailyRate                 1058.0    809.542533   408.478049   102.0   \n",
       "DistanceFromHome          1058.0      8.978261     8.040608     1.0   \n",
       "Education                 1058.0      2.879017     1.031442     1.0   \n",
       "EmployeeCount             1058.0      1.000000     0.000000     1.0   \n",
       "EnvironmentSatisfaction   1058.0      2.712665     1.092959     1.0   \n",
       "HourlyRate                1058.0     65.643667    20.324861    30.0   \n",
       "JobInvolvement            1058.0      2.737240     0.704730     1.0   \n",
       "JobLevel                  1058.0      2.090737     1.136514     1.0   \n",
       "JobSatisfaction           1058.0      2.749527     1.104144     1.0   \n",
       "MonthlyIncome             1058.0   6625.945180  4837.695042  1009.0   \n",
       "MonthlyRate               1058.0  14267.281664  7048.077305  2094.0   \n",
       "NumCompaniesWorked        1058.0      2.706994     2.523526     0.0   \n",
       "PercentSalaryHike         1058.0     15.155955     3.641097    11.0   \n",
       "PerformanceRating         1058.0      3.150284     0.357518     3.0   \n",
       "RelationshipSatisfaction  1058.0      2.726843     1.090970     1.0   \n",
       "StandardHours             1058.0     80.000000     0.000000    80.0   \n",
       "StockOptionLevel          1058.0      0.762760     0.837537     0.0   \n",
       "TotalWorkingYears         1058.0     11.435728     8.016429     0.0   \n",
       "TrainingTimesLastYear     1058.0      2.769376     1.302689     0.0   \n",
       "WorkLifeBalance           1058.0      2.763705     0.707392     1.0   \n",
       "YearsAtCompany            1058.0      7.065217     6.265227     0.0   \n",
       "YearsInCurrentRole        1058.0      4.260870     3.617470     0.0   \n",
       "YearsSinceLastPromotion   1058.0      2.203214     3.266948     0.0   \n",
       "YearsWithCurrManager      1058.0      4.142722     3.599044     0.0   \n",
       "IncomePerYear             1058.0    591.825430   287.287165   104.3   \n",
       "\n",
       "                                  25%           50%           75%      max  \n",
       "EmployeeId                 364.250000    731.500000   1117.750000   1470.0  \n",
       "Age                         30.000000     36.000000     43.000000     60.0  \n",
       "DailyRate                  465.250000    817.500000   1168.500000   1499.0  \n",
       "DistanceFromHome             2.000000      7.000000     13.000000     29.0  \n",
       "Education                    2.000000      3.000000      4.000000      5.0  \n",
       "EmployeeCount                1.000000      1.000000      1.000000      1.0  \n",
       "EnvironmentSatisfaction      2.000000      3.000000      4.000000      4.0  \n",
       "HourlyRate                  48.000000     65.000000     83.000000    100.0  \n",
       "JobInvolvement               2.000000      3.000000      3.000000      4.0  \n",
       "JobLevel                     1.000000      2.000000      3.000000      5.0  \n",
       "JobSatisfaction              2.000000      3.000000      4.000000      4.0  \n",
       "MonthlyIncome             2900.250000   4903.500000   8736.500000  19999.0  \n",
       "MonthlyRate               8277.250000  14201.000000  20364.000000  26999.0  \n",
       "NumCompaniesWorked           1.000000      2.000000      4.000000      9.0  \n",
       "PercentSalaryHike           12.000000     14.000000     18.000000     25.0  \n",
       "PerformanceRating            3.000000      3.000000      3.000000      4.0  \n",
       "RelationshipSatisfaction     2.000000      3.000000      4.000000      4.0  \n",
       "StandardHours               80.000000     80.000000     80.000000     80.0  \n",
       "StockOptionLevel             0.000000      1.000000      1.000000      3.0  \n",
       "TotalWorkingYears            6.000000     10.000000     16.000000     40.0  \n",
       "TrainingTimesLastYear        2.000000      3.000000      3.000000      6.0  \n",
       "WorkLifeBalance              2.000000      3.000000      3.000000      4.0  \n",
       "YearsAtCompany               3.000000      5.000000      9.000000     40.0  \n",
       "YearsInCurrentRole           2.000000      3.000000      7.000000     18.0  \n",
       "YearsSinceLastPromotion      0.000000      1.000000      3.000000     15.0  \n",
       "YearsWithCurrManager         2.000000      3.000000      7.000000     17.0  \n",
       "IncomePerYear              374.232143    560.450658    746.032609   1904.0  "
      ]
     },
     "execution_count": 66,
     "metadata": {},
     "output_type": "execute_result"
    }
   ],
   "source": [
    "# Numerical describe\n",
    "df[num_cols].describe().T"
   ]
  },
  {
   "cell_type": "markdown",
   "id": "db56e32c",
   "metadata": {},
   "source": [
    "## 4 Modeling – CatBoost + Optuna"
   ]
  },
  {
   "cell_type": "code",
   "execution_count": null,
   "id": "72b11683",
   "metadata": {},
   "outputs": [],
   "source": [
    "X, y = df.drop(columns=[TARGET]), df[TARGET]\n",
    "X_train, X_test, y_train, y_test = train_test_split(\n",
    "        X, y, test_size=0.2, stratify=y, random_state=42)\n",
    "\n",
    "te_cols  = [c for c in cat_cols if X_train[c].nunique()>10]\n",
    "ohe_cols = [c for c in cat_cols if c not in te_cols]\n",
    "\n",
    "def fit_encode(X_df, y_series):\n",
    "    enc = TargetEncoder(cols=te_cols).fit(X_df, y_series)\n",
    "    X_ = enc.transform(X_df)\n",
    "    X_ = pd.get_dummies(X_, columns=ohe_cols, drop_first=True)\n",
    "    return X_, enc\n",
    "\n",
    "def apply_encode(X_df, enc, ref_cols):\n",
    "    X_ = enc.transform(X_df)\n",
    "    X_ = pd.get_dummies(X_, columns=ohe_cols, drop_first=True)\n",
    "    missing = [c for c in ref_cols if c not in X_.columns]\n",
    "    for c in missing: X_[c]=0\n",
    "    return X_[ref_cols]\n",
    "\n",
    "X_train_enc, encoder = fit_encode(X_train, y_train)\n",
    "X_test_enc           = apply_encode(X_test, encoder, X_train_enc.columns)"
   ]
  },
  {
   "cell_type": "code",
   "execution_count": null,
   "id": "37e1596b",
   "metadata": {},
   "outputs": [
    {
     "name": "stderr",
     "output_type": "stream",
     "text": [
      "[I 2025-04-18 21:50:18,052] A new study created in memory with name: no-name-55a37ad8-b022-4a41-b63b-d31d2735587b\n"
     ]
    },
    {
     "name": "stdout",
     "output_type": "stream",
     "text": [
      "Training on fold [0/3]\n",
      "\n",
      "bestTest = 0.792641844\n",
      "bestIteration = 689\n",
      "\n",
      "Training on fold [1/3]\n",
      "\n",
      "bestTest = 0.8204237892\n",
      "bestIteration = 31\n",
      "\n",
      "Training on fold [2/3]\n"
     ]
    },
    {
     "name": "stderr",
     "output_type": "stream",
     "text": [
      "[I 2025-04-18 21:50:38,136] Trial 0 finished with value: 0.7739794861692024 and parameters: {'depth': 7, 'learning_rate': 0.10776419788523965, 'l2_leaf_reg': 7.7403918333465, 'random_strength': 0.07882250899994547, 'bagging_temperature': 0.7359548477040453, 'border_count': 140}. Best is trial 0 with value: 0.7739794861692024.\n"
     ]
    },
    {
     "name": "stdout",
     "output_type": "stream",
     "text": [
      "\n",
      "bestTest = 0.7447717767\n",
      "bestIteration = 1443\n",
      "\n",
      "Training on fold [0/3]\n",
      "\n",
      "bestTest = 0.8041666667\n",
      "bestIteration = 1423\n",
      "\n",
      "Training on fold [1/3]\n",
      "\n",
      "bestTest = 0.7818732194\n",
      "bestIteration = 28\n",
      "\n",
      "Training on fold [2/3]\n"
     ]
    },
    {
     "name": "stderr",
     "output_type": "stream",
     "text": [
      "[I 2025-04-18 21:51:04,102] Trial 1 finished with value: 0.764442651189105 and parameters: {'depth': 8, 'learning_rate': 0.08827028493711256, 'l2_leaf_reg': 8.090946687512245, 'random_strength': 0.2571343071616701, 'bagging_temperature': 0.8591286743484755, 'border_count': 174}. Best is trial 0 with value: 0.7739794861692024.\n"
     ]
    },
    {
     "name": "stdout",
     "output_type": "stream",
     "text": [
      "\n",
      "bestTest = 0.7411347518\n",
      "bestIteration = 113\n",
      "\n",
      "Training on fold [0/3]\n",
      "\n",
      "bestTest = 0.7935283688\n",
      "bestIteration = 79\n",
      "\n",
      "Training on fold [1/3]\n",
      "\n",
      "bestTest = 0.8024394587\n",
      "bestIteration = 50\n",
      "\n",
      "Training on fold [2/3]\n"
     ]
    },
    {
     "name": "stderr",
     "output_type": "stream",
     "text": [
      "[I 2025-04-18 21:51:19,967] Trial 2 finished with value: 0.7722175496554929 and parameters: {'depth': 5, 'learning_rate': 0.0661348874797082, 'l2_leaf_reg': 7.004968937779891, 'random_strength': 0.044341293386930936, 'bagging_temperature': 0.8592726305600851, 'border_count': 136}. Best is trial 0 with value: 0.7739794861692024.\n"
     ]
    },
    {
     "name": "stdout",
     "output_type": "stream",
     "text": [
      "\n",
      "bestTest = 0.7375886525\n",
      "bestIteration = 66\n",
      "\n",
      "Training on fold [0/3]\n",
      "\n",
      "bestTest = 0.8171985816\n",
      "bestIteration = 114\n",
      "\n",
      "Training on fold [1/3]\n",
      "\n",
      "bestTest = 0.8220263533\n",
      "bestIteration = 92\n",
      "\n",
      "Training on fold [2/3]\n"
     ]
    },
    {
     "name": "stderr",
     "output_type": "stream",
     "text": [
      "[I 2025-04-18 21:51:33,033] Trial 3 finished with value: 0.7913100361681922 and parameters: {'depth': 4, 'learning_rate': 0.041473634027155586, 'l2_leaf_reg': 8.069105139611656, 'random_strength': 0.40028104072104864, 'bagging_temperature': 0.038932563377349516, 'border_count': 113}. Best is trial 3 with value: 0.7913100361681922.\n"
     ]
    },
    {
     "name": "stdout",
     "output_type": "stream",
     "text": [
      "\n",
      "bestTest = 0.7443171486\n",
      "bestIteration = 19\n",
      "\n",
      "Training on fold [0/3]\n",
      "\n",
      "bestTest = 0.8078014184\n",
      "bestIteration = 210\n",
      "\n",
      "Training on fold [1/3]\n",
      "\n",
      "bestTest = 0.8110754986\n",
      "bestIteration = 121\n",
      "\n",
      "Training on fold [2/3]\n"
     ]
    },
    {
     "name": "stderr",
     "output_type": "stream",
     "text": [
      "[I 2025-04-18 21:51:55,064] Trial 4 finished with value: 0.7894407569052958 and parameters: {'depth': 7, 'learning_rate': 0.11796127181298659, 'l2_leaf_reg': 4.4279616510983475, 'random_strength': 1.1055449968555335, 'bagging_temperature': 0.1422732775868859, 'border_count': 174}. Best is trial 3 with value: 0.7913100361681922.\n"
     ]
    },
    {
     "name": "stdout",
     "output_type": "stream",
     "text": [
      "\n",
      "bestTest = 0.7631387525\n",
      "bestIteration = 67\n",
      "\n",
      "Training on fold [0/3]\n",
      "\n",
      "bestTest = 0.8127659574\n",
      "bestIteration = 49\n",
      "\n",
      "Training on fold [1/3]\n",
      "\n",
      "bestTest = 0.8149038462\n",
      "bestIteration = 98\n",
      "\n",
      "Training on fold [2/3]\n"
     ]
    },
    {
     "name": "stderr",
     "output_type": "stream",
     "text": [
      "[I 2025-04-18 21:52:15,677] Trial 5 finished with value: 0.786191807601382 and parameters: {'depth': 7, 'learning_rate': 0.0830219951447643, 'l2_leaf_reg': 1.2057854278484932, 'random_strength': 1.9338535335684295, 'bagging_temperature': 0.8884442487773533, 'border_count': 213}. Best is trial 3 with value: 0.7913100361681922.\n"
     ]
    },
    {
     "name": "stdout",
     "output_type": "stream",
     "text": [
      "\n",
      "bestTest = 0.7432260411\n",
      "bestIteration = 324\n",
      "\n",
      "Training on fold [0/3]\n",
      "\n",
      "bestTest = 0.7884751773\n",
      "bestIteration = 111\n",
      "\n",
      "Training on fold [1/3]\n",
      "\n",
      "bestTest = 0.7938924501\n",
      "bestIteration = 52\n",
      "\n",
      "Training on fold [2/3]\n"
     ]
    },
    {
     "name": "stderr",
     "output_type": "stream",
     "text": [
      "[I 2025-04-18 21:52:29,821] Trial 6 finished with value: 0.7719520973510335 and parameters: {'depth': 4, 'learning_rate': 0.0348129989893045, 'l2_leaf_reg': 2.791613383924743, 'random_strength': 0.006282959391170628, 'bagging_temperature': 0.6213962356096328, 'border_count': 248}. Best is trial 3 with value: 0.7913100361681922.\n"
     ]
    },
    {
     "name": "stdout",
     "output_type": "stream",
     "text": [
      "\n",
      "bestTest = 0.7414984543\n",
      "bestIteration = 97\n",
      "\n",
      "Training on fold [0/3]\n",
      "\n",
      "bestTest = 0.7855496454\n",
      "bestIteration = 222\n",
      "\n",
      "Training on fold [1/3]\n",
      "\n",
      "bestTest = 0.8140135328\n",
      "bestIteration = 40\n",
      "\n",
      "Training on fold [2/3]\n"
     ]
    },
    {
     "name": "stderr",
     "output_type": "stream",
     "text": [
      "[I 2025-04-18 21:52:45,123] Trial 7 finished with value: 0.7765411893071468 and parameters: {'depth': 5, 'learning_rate': 0.021234101192028124, 'l2_leaf_reg': 7.246219666637084, 'random_strength': 0.19637445008542143, 'bagging_temperature': 0.8700238951765109, 'border_count': 184}. Best is trial 3 with value: 0.7913100361681922.\n"
     ]
    },
    {
     "name": "stdout",
     "output_type": "stream",
     "text": [
      "\n",
      "bestTest = 0.7500454628\n",
      "bestIteration = 308\n",
      "\n",
      "Training on fold [0/3]\n",
      "\n",
      "bestTest = 0.8310283688\n",
      "bestIteration = 67\n",
      "\n",
      "Training on fold [1/3]\n",
      "\n",
      "bestTest = 0.8230947293\n",
      "bestIteration = 19\n",
      "\n",
      "Training on fold [2/3]\n"
     ]
    },
    {
     "name": "stderr",
     "output_type": "stream",
     "text": [
      "[I 2025-04-18 21:52:57,434] Trial 8 finished with value: 0.7975003030854095 and parameters: {'depth': 4, 'learning_rate': 0.08721145664352078, 'l2_leaf_reg': 3.269556732253282, 'random_strength': 1.0553838115306076, 'bagging_temperature': 0.21867868346076724, 'border_count': 206}. Best is trial 8 with value: 0.7975003030854095.\n"
     ]
    },
    {
     "name": "stdout",
     "output_type": "stream",
     "text": [
      "\n",
      "bestTest = 0.7594562648\n",
      "bestIteration = 5\n",
      "\n",
      "Training on fold [0/3]\n",
      "\n",
      "bestTest = 0.8132978723\n",
      "bestIteration = 61\n",
      "\n",
      "Training on fold [1/3]\n",
      "\n",
      "bestTest = 0.8189992877\n",
      "bestIteration = 40\n",
      "\n",
      "Training on fold [2/3]\n"
     ]
    },
    {
     "name": "stderr",
     "output_type": "stream",
     "text": [
      "[I 2025-04-18 21:53:10,265] Trial 9 finished with value: 0.7904418227556526 and parameters: {'depth': 4, 'learning_rate': 0.04732979884389617, 'l2_leaf_reg': 3.8473806204316547, 'random_strength': 1.9302726529579015, 'bagging_temperature': 0.6395679197230177, 'border_count': 158}. Best is trial 8 with value: 0.7975003030854095.\n"
     ]
    },
    {
     "name": "stdout",
     "output_type": "stream",
     "text": [
      "\n",
      "bestTest = 0.7505000909\n",
      "bestIteration = 58\n",
      "\n",
      "Training on fold [0/3]\n",
      "\n",
      "bestTest = 0.8004432624\n",
      "bestIteration = 32\n",
      "\n",
      "Training on fold [1/3]\n",
      "\n",
      "bestTest = 0.8087606838\n",
      "bestIteration = 50\n",
      "\n",
      "Training on fold [2/3]\n"
     ]
    },
    {
     "name": "stderr",
     "output_type": "stream",
     "text": [
      "[I 2025-04-18 21:53:23,764] Trial 10 finished with value: 0.7864195005152452 and parameters: {'depth': 5, 'learning_rate': 0.14361740747192842, 'l2_leaf_reg': 1.9271685834821313, 'random_strength': 1.1095814299444138, 'bagging_temperature': 0.3304595715799885, 'border_count': 64}. Best is trial 8 with value: 0.7975003030854095.\n"
     ]
    },
    {
     "name": "stdout",
     "output_type": "stream",
     "text": [
      "\n",
      "bestTest = 0.7639570831\n",
      "bestIteration = 43\n",
      "\n",
      "Training on fold [0/3]\n",
      "\n",
      "bestTest = 0.8204787234\n",
      "bestIteration = 123\n",
      "\n",
      "Training on fold [1/3]\n",
      "\n",
      "bestTest = 0.8076032764\n",
      "bestIteration = 68\n",
      "\n",
      "Training on fold [2/3]\n"
     ]
    },
    {
     "name": "stderr",
     "output_type": "stream",
     "text": [
      "[I 2025-04-18 21:53:36,443] Trial 11 finished with value: 0.7868181841142835 and parameters: {'depth': 4, 'learning_rate': 0.04126334600572971, 'l2_leaf_reg': 2.016023843822365, 'random_strength': 0.7360189076905137, 'bagging_temperature': 0.0027496352363355486, 'border_count': 96}. Best is trial 8 with value: 0.7975003030854095.\n"
     ]
    },
    {
     "name": "stdout",
     "output_type": "stream",
     "text": [
      "\n",
      "bestTest = 0.7442262229\n",
      "bestIteration = 15\n",
      "\n",
      "Training on fold [0/3]\n",
      "\n",
      "bestTest = 0.8128546099\n",
      "bestIteration = 102\n",
      "\n",
      "Training on fold [1/3]\n",
      "\n",
      "bestTest = 0.8184650997\n",
      "bestIteration = 73\n",
      "\n",
      "Training on fold [2/3]\n"
     ]
    },
    {
     "name": "stderr",
     "output_type": "stream",
     "text": [
      "[I 2025-04-18 21:53:53,897] Trial 12 finished with value: 0.7913972995090016 and parameters: {'depth': 6, 'learning_rate': 0.029423551058901144, 'l2_leaf_reg': 4.747322086596956, 'random_strength': 0.7178759745816882, 'bagging_temperature': 0.3102165241326522, 'border_count': 221}. Best is trial 8 with value: 0.7975003030854095.\n"
     ]
    },
    {
     "name": "stdout",
     "output_type": "stream",
     "text": [
      "\n",
      "bestTest = 0.7484997272\n",
      "bestIteration = 309\n",
      "\n",
      "Training on fold [0/3]\n",
      "\n",
      "bestTest = 0.8223404255\n",
      "bestIteration = 197\n",
      "\n",
      "Training on fold [1/3]\n",
      "\n",
      "bestTest = 0.8319088319\n",
      "bestIteration = 298\n",
      "\n",
      "Training on fold [2/3]\n"
     ]
    },
    {
     "name": "stderr",
     "output_type": "stream",
     "text": [
      "[I 2025-04-18 21:54:11,500] Trial 13 finished with value: 0.8019447980440888 and parameters: {'depth': 6, 'learning_rate': 0.02738758630663346, 'l2_leaf_reg': 4.8199144271888965, 'random_strength': 1.4648622079726605, 'bagging_temperature': 0.346728583952316, 'border_count': 224}. Best is trial 13 with value: 0.8019447980440888.\n"
     ]
    },
    {
     "name": "stdout",
     "output_type": "stream",
     "text": [
      "\n",
      "bestTest = 0.758683397\n",
      "bestIteration = 302\n",
      "\n",
      "Training on fold [0/3]\n",
      "\n",
      "bestTest = 0.8107269504\n",
      "bestIteration = 121\n",
      "\n",
      "Training on fold [1/3]\n",
      "\n",
      "bestTest = 0.8417022792\n",
      "bestIteration = 105\n",
      "\n",
      "Training on fold [2/3]\n"
     ]
    },
    {
     "name": "stderr",
     "output_type": "stream",
     "text": [
      "[I 2025-04-18 21:54:29,956] Trial 14 finished with value: 0.7986953435978258 and parameters: {'depth': 6, 'learning_rate': 0.061250543808238564, 'l2_leaf_reg': 3.0799576253259655, 'random_strength': 1.4578359516206374, 'bagging_temperature': 0.3808832960657216, 'border_count': 254}. Best is trial 13 with value: 0.8019447980440888.\n"
     ]
    },
    {
     "name": "stdout",
     "output_type": "stream",
     "text": [
      "\n",
      "bestTest = 0.7681396618\n",
      "bestIteration = 47\n",
      "\n",
      "Training on fold [0/3]\n",
      "\n",
      "bestTest = 0.7980496454\n",
      "bestIteration = 130\n",
      "\n",
      "Training on fold [1/3]\n",
      "\n",
      "bestTest = 0.8530092593\n",
      "bestIteration = 83\n",
      "\n",
      "Training on fold [2/3]\n"
     ]
    },
    {
     "name": "stderr",
     "output_type": "stream",
     "text": [
      "[I 2025-04-18 21:54:47,498] Trial 15 finished with value: 0.7939419540926633 and parameters: {'depth': 6, 'learning_rate': 0.060374246355786504, 'l2_leaf_reg': 2.421103218973343, 'random_strength': 1.5323327065707082, 'bagging_temperature': 0.46807748483987727, 'border_count': 250}. Best is trial 13 with value: 0.8019447980440888.\n"
     ]
    },
    {
     "name": "stdout",
     "output_type": "stream",
     "text": [
      "\n",
      "bestTest = 0.7608656119\n",
      "bestIteration = 34\n",
      "\n",
      "Training on fold [0/3]\n",
      "\n",
      "bestTest = 0.8227836879\n",
      "bestIteration = 274\n",
      "\n",
      "Training on fold [1/3]\n",
      "\n",
      "bestTest = 0.83377849\n",
      "bestIteration = 73\n",
      "\n",
      "Training on fold [2/3]\n"
     ]
    },
    {
     "name": "stderr",
     "output_type": "stream",
     "text": [
      "[I 2025-04-18 21:55:05,057] Trial 16 finished with value: 0.8029845072841527 and parameters: {'depth': 6, 'learning_rate': 0.02629068206410237, 'l2_leaf_reg': 5.128142544393051, 'random_strength': 1.4838725893332556, 'bagging_temperature': 0.42461462062565325, 'border_count': 232}. Best is trial 16 with value: 0.8029845072841527.\n"
     ]
    },
    {
     "name": "stdout",
     "output_type": "stream",
     "text": [
      "\n",
      "bestTest = 0.7600472813\n",
      "bestIteration = 24\n",
      "\n",
      "Training on fold [0/3]\n",
      "\n",
      "bestTest = 0.8234929078\n",
      "bestIteration = 311\n",
      "\n",
      "Training on fold [1/3]\n",
      "\n",
      "bestTest = 0.8476673789\n",
      "bestIteration = 115\n",
      "\n",
      "Training on fold [2/3]\n"
     ]
    },
    {
     "name": "stderr",
     "output_type": "stream",
     "text": [
      "[I 2025-04-18 21:55:33,417] Trial 17 finished with value: 0.8057381645147602 and parameters: {'depth': 8, 'learning_rate': 0.024063676908730885, 'l2_leaf_reg': 5.264377260965787, 'random_strength': 1.4632935568236605, 'bagging_temperature': 0.5165223215096046, 'border_count': 227}. Best is trial 17 with value: 0.8057381645147602.\n"
     ]
    },
    {
     "name": "stdout",
     "output_type": "stream",
     "text": [
      "\n",
      "bestTest = 0.7645026368\n",
      "bestIteration = 253\n",
      "\n",
      "Training on fold [0/3]\n",
      "\n",
      "bestTest = 0.829964539\n",
      "bestIteration = 265\n",
      "\n",
      "Training on fold [1/3]\n",
      "\n",
      "bestTest = 0.8348468661\n",
      "bestIteration = 51\n",
      "\n",
      "Training on fold [2/3]\n"
     ]
    },
    {
     "name": "stderr",
     "output_type": "stream",
     "text": [
      "[I 2025-04-18 21:56:01,390] Trial 18 finished with value: 0.8054914024772181 and parameters: {'depth': 8, 'learning_rate': 0.020059850602591852, 'l2_leaf_reg': 5.670145166046266, 'random_strength': 1.659413384051802, 'bagging_temperature': 0.5155779248221057, 'border_count': 196}. Best is trial 17 with value: 0.8057381645147602.\n"
     ]
    },
    {
     "name": "stdout",
     "output_type": "stream",
     "text": [
      "\n",
      "bestTest = 0.7610474632\n",
      "bestIteration = 524\n",
      "\n",
      "Training on fold [0/3]\n",
      "\n",
      "bestTest = 0.817641844\n",
      "bestIteration = 328\n",
      "\n",
      "Training on fold [1/3]\n",
      "\n",
      "bestTest = 0.8383190883\n",
      "bestIteration = 46\n",
      "\n",
      "Training on fold [2/3]\n"
     ]
    },
    {
     "name": "stderr",
     "output_type": "stream",
     "text": [
      "[I 2025-04-18 21:56:28,907] Trial 19 finished with value: 0.8003104099735306 and parameters: {'depth': 8, 'learning_rate': 0.020670349290578115, 'l2_leaf_reg': 6.054065344598264, 'random_strength': 1.721292220094705, 'bagging_temperature': 0.6116112046639496, 'border_count': 196}. Best is trial 17 with value: 0.8057381645147602.\n"
     ]
    },
    {
     "name": "stdout",
     "output_type": "stream",
     "text": [
      "\n",
      "bestTest = 0.7570467358\n",
      "bestIteration = 151\n",
      "\n",
      "Training on fold [0/3]\n",
      "\n",
      "bestTest = 0.8257978723\n",
      "bestIteration = 193\n",
      "\n",
      "Training on fold [1/3]\n",
      "\n",
      "bestTest = 0.8436609687\n",
      "bestIteration = 65\n",
      "\n",
      "Training on fold [2/3]\n"
     ]
    },
    {
     "name": "stderr",
     "output_type": "stream",
     "text": [
      "[I 2025-04-18 21:56:58,351] Trial 20 finished with value: 0.8030336323776041 and parameters: {'depth': 8, 'learning_rate': 0.023702738966876597, 'l2_leaf_reg': 9.800892381829708, 'random_strength': 1.281952741334136, 'bagging_temperature': 0.526157795287655, 'border_count': 192}. Best is trial 17 with value: 0.8057381645147602.\n"
     ]
    },
    {
     "name": "stdout",
     "output_type": "stream",
     "text": [
      "\n",
      "bestTest = 0.759410802\n",
      "bestIteration = 486\n",
      "\n",
      "Training on fold [0/3]\n",
      "\n",
      "bestTest = 0.8261524823\n",
      "bestIteration = 573\n",
      "\n",
      "Training on fold [1/3]\n",
      "\n",
      "bestTest = 0.8360933048\n",
      "bestIteration = 62\n",
      "\n",
      "Training on fold [2/3]\n"
     ]
    },
    {
     "name": "stderr",
     "output_type": "stream",
     "text": [
      "[I 2025-04-18 21:57:25,829] Trial 21 finished with value: 0.8001778101068883 and parameters: {'depth': 8, 'learning_rate': 0.023625416960242333, 'l2_leaf_reg': 9.75587081713326, 'random_strength': 1.2592292896387305, 'bagging_temperature': 0.5391767241342088, 'border_count': 202}. Best is trial 17 with value: 0.8057381645147602.\n"
     ]
    },
    {
     "name": "stdout",
     "output_type": "stream",
     "text": [
      "\n",
      "bestTest = 0.7634115294\n",
      "bestIteration = 210\n",
      "\n",
      "Training on fold [0/3]\n",
      "\n",
      "bestTest = 0.8235815603\n",
      "bestIteration = 540\n",
      "\n",
      "Training on fold [1/3]\n",
      "\n",
      "bestTest = 0.8412571225\n",
      "bestIteration = 79\n",
      "\n",
      "Training on fold [2/3]\n"
     ]
    },
    {
     "name": "stderr",
     "output_type": "stream",
     "text": [
      "[I 2025-04-18 21:57:53,699] Trial 22 finished with value: 0.8050261663736841 and parameters: {'depth': 8, 'learning_rate': 0.03325990835905472, 'l2_leaf_reg': 9.916424338804203, 'random_strength': 1.7484190760825373, 'bagging_temperature': 0.5452394993768749, 'border_count': 190}. Best is trial 17 with value: 0.8057381645147602.\n"
     ]
    },
    {
     "name": "stdout",
     "output_type": "stream",
     "text": [
      "\n",
      "bestTest = 0.7625931988\n",
      "bestIteration = 168\n",
      "\n",
      "Training on fold [0/3]\n",
      "\n",
      "bestTest = 0.8179078014\n",
      "bestIteration = 80\n",
      "\n",
      "Training on fold [1/3]\n",
      "\n",
      "bestTest = 0.8327991453\n",
      "bestIteration = 73\n",
      "\n",
      "Training on fold [2/3]\n"
     ]
    },
    {
     "name": "stderr",
     "output_type": "stream",
     "text": [
      "[I 2025-04-18 21:58:15,408] Trial 23 finished with value: 0.7982186155058496 and parameters: {'depth': 7, 'learning_rate': 0.035114419593653155, 'l2_leaf_reg': 5.7191111967496795, 'random_strength': 1.7638408931043124, 'bagging_temperature': 0.7447223253673336, 'border_count': 168}. Best is trial 17 with value: 0.8057381645147602.\n"
     ]
    },
    {
     "name": "stdout",
     "output_type": "stream",
     "text": [
      "\n",
      "bestTest = 0.757955992\n",
      "bestIteration = 17\n",
      "\n",
      "Training on fold [0/3]\n",
      "\n",
      "bestTest = 0.827393617\n",
      "bestIteration = 188\n",
      "\n",
      "Training on fold [1/3]\n",
      "\n",
      "bestTest = 0.8306623932\n",
      "bestIteration = 61\n",
      "\n",
      "Training on fold [2/3]\n"
     ]
    },
    {
     "name": "stderr",
     "output_type": "stream",
     "text": [
      "[I 2025-04-18 21:58:45,767] Trial 24 finished with value: 0.8031923733608131 and parameters: {'depth': 8, 'learning_rate': 0.03202901913025835, 'l2_leaf_reg': 6.178344998921086, 'random_strength': 1.699135673616464, 'bagging_temperature': 0.7481500684929514, 'border_count': 237}. Best is trial 17 with value: 0.8057381645147602.\n"
     ]
    },
    {
     "name": "stdout",
     "output_type": "stream",
     "text": [
      "\n",
      "bestTest = 0.7685033642\n",
      "bestIteration = 227\n",
      "\n",
      "Training on fold [0/3]\n",
      "\n",
      "bestTest = 0.8125\n",
      "bestIteration = 319\n",
      "\n",
      "Training on fold [1/3]\n",
      "\n",
      "bestTest = 0.8404558405\n",
      "bestIteration = 87\n",
      "\n",
      "Training on fold [2/3]\n"
     ]
    },
    {
     "name": "stderr",
     "output_type": "stream",
     "text": [
      "[I 2025-04-18 21:59:12,696] Trial 25 finished with value: 0.7985166494918268 and parameters: {'depth': 8, 'learning_rate': 0.024673749868499226, 'l2_leaf_reg': 3.9311972037437797, 'random_strength': 1.6380266391150315, 'bagging_temperature': 0.981245728238275, 'border_count': 158}. Best is trial 17 with value: 0.8057381645147602.\n"
     ]
    },
    {
     "name": "stdout",
     "output_type": "stream",
     "text": [
      "\n",
      "bestTest = 0.7519549009\n",
      "bestIteration = 265\n",
      "\n",
      "Training on fold [0/3]\n",
      "\n",
      "bestTest = 0.8289893617\n",
      "bestIteration = 362\n",
      "\n",
      "Training on fold [1/3]\n",
      "\n",
      "bestTest = 0.8237179487\n",
      "bestIteration = 357\n",
      "\n",
      "Training on fold [2/3]\n"
     ]
    },
    {
     "name": "stderr",
     "output_type": "stream",
     "text": [
      "[I 2025-04-18 21:59:34,471] Trial 26 finished with value: 0.8045856822452567 and parameters: {'depth': 7, 'learning_rate': 0.021114275762303365, 'l2_leaf_reg': 9.689895981438356, 'random_strength': 1.9924310927906874, 'bagging_temperature': 0.5712274810042862, 'border_count': 216}. Best is trial 17 with value: 0.8057381645147602.\n"
     ]
    },
    {
     "name": "stdout",
     "output_type": "stream",
     "text": [
      "\n",
      "bestTest = 0.7632296781\n",
      "bestIteration = 316\n",
      "\n",
      "Training on fold [0/3]\n",
      "\n",
      "bestTest = 0.8163120567\n",
      "bestIteration = 191\n",
      "\n",
      "Training on fold [1/3]\n",
      "\n",
      "bestTest = 0.8200676638\n",
      "bestIteration = 78\n",
      "\n",
      "Training on fold [2/3]\n"
     ]
    },
    {
     "name": "stderr",
     "output_type": "stream",
     "text": [
      "[I 2025-04-18 22:00:04,096] Trial 27 finished with value: 0.7926654593764523 and parameters: {'depth': 8, 'learning_rate': 0.030427533410856477, 'l2_leaf_reg': 3.8036062264938986, 'random_strength': 1.3121867435173542, 'bagging_temperature': 0.6681773089614068, 'border_count': 186}. Best is trial 17 with value: 0.8057381645147602.\n"
     ]
    },
    {
     "name": "stdout",
     "output_type": "stream",
     "text": [
      "\n",
      "bestTest = 0.7528641571\n",
      "bestIteration = 158\n",
      "\n",
      "Training on fold [0/3]\n",
      "\n",
      "bestTest = 0.8260638298\n",
      "bestIteration = 214\n",
      "\n",
      "Training on fold [1/3]\n",
      "\n",
      "bestTest = 0.8306623932\n",
      "bestIteration = 198\n",
      "\n",
      "Training on fold [2/3]\n"
     ]
    },
    {
     "name": "stderr",
     "output_type": "stream",
     "text": [
      "[I 2025-04-18 22:00:25,372] Trial 28 finished with value: 0.7929512436604634 and parameters: {'depth': 7, 'learning_rate': 0.03835307975011454, 'l2_leaf_reg': 1.0419636198000783, 'random_strength': 1.8189227989467731, 'bagging_temperature': 0.46435111920679073, 'border_count': 235}. Best is trial 17 with value: 0.8057381645147602.\n"
     ]
    },
    {
     "name": "stdout",
     "output_type": "stream",
     "text": [
      "\n",
      "bestTest = 0.7394071649\n",
      "bestIteration = 15\n",
      "\n",
      "Training on fold [0/3]\n",
      "\n",
      "bestTest = 0.8109929078\n",
      "bestIteration = 149\n",
      "\n",
      "Training on fold [1/3]\n",
      "\n",
      "bestTest = 0.8213141026\n",
      "bestIteration = 136\n",
      "\n",
      "Training on fold [2/3]\n"
     ]
    },
    {
     "name": "stderr",
     "output_type": "stream",
     "text": [
      "[I 2025-04-18 22:00:52,772] Trial 29 finished with value: 0.7952611333373745 and parameters: {'depth': 8, 'learning_rate': 0.04861978278089571, 'l2_leaf_reg': 8.25296227938024, 'random_strength': 0.8051864576873315, 'bagging_temperature': 0.23652328996232186, 'border_count': 148}. Best is trial 17 with value: 0.8057381645147602.\n"
     ]
    },
    {
     "name": "stdout",
     "output_type": "stream",
     "text": [
      "\n",
      "bestTest = 0.7606837607\n",
      "bestIteration = 1251\n",
      "\n",
      "Training on fold [0/3]\n",
      "\n",
      "bestTest = 0.8229609929\n",
      "bestIteration = 399\n",
      "\n",
      "Training on fold [1/3]\n",
      "\n",
      "bestTest = 0.822204416\n",
      "bestIteration = 287\n",
      "\n",
      "Training on fold [2/3]\n"
     ]
    },
    {
     "name": "stderr",
     "output_type": "stream",
     "text": [
      "[I 2025-04-18 22:01:14,994] Trial 30 finished with value: 0.8022880422703117 and parameters: {'depth': 7, 'learning_rate': 0.020370273065448884, 'l2_leaf_reg': 6.250763853553601, 'random_strength': 1.600795638175121, 'bagging_temperature': 0.6990570292142423, 'border_count': 135}. Best is trial 17 with value: 0.8057381645147602.\n"
     ]
    },
    {
     "name": "stdout",
     "output_type": "stream",
     "text": [
      "\n",
      "bestTest = 0.7740498272\n",
      "bestIteration = 156\n",
      "\n",
      "Training on fold [0/3]\n",
      "\n",
      "bestTest = 0.8361702128\n",
      "bestIteration = 376\n",
      "\n",
      "Training on fold [1/3]\n",
      "\n",
      "bestTest = 0.8155270655\n",
      "bestIteration = 370\n",
      "\n",
      "Training on fold [2/3]\n"
     ]
    },
    {
     "name": "stderr",
     "output_type": "stream",
     "text": [
      "[I 2025-04-18 22:01:37,476] Trial 31 finished with value: 0.8036507900426341 and parameters: {'depth': 7, 'learning_rate': 0.02296120788004486, 'l2_leaf_reg': 9.820634880416899, 'random_strength': 1.8905157123359333, 'bagging_temperature': 0.5643762397777669, 'border_count': 214}. Best is trial 17 with value: 0.8057381645147602.\n"
     ]
    },
    {
     "name": "stdout",
     "output_type": "stream",
     "text": [
      "\n",
      "bestTest = 0.7632296781\n",
      "bestIteration = 3\n",
      "\n",
      "Training on fold [0/3]\n",
      "\n",
      "bestTest = 0.8414893617\n",
      "bestIteration = 251\n",
      "\n",
      "Training on fold [1/3]\n",
      "\n",
      "bestTest = 0.8270121083\n",
      "bestIteration = 290\n",
      "\n",
      "Training on fold [2/3]\n"
     ]
    },
    {
     "name": "stderr",
     "output_type": "stream",
     "text": [
      "[I 2025-04-18 22:02:05,460] Trial 32 finished with value: 0.8116007203329899 and parameters: {'depth': 8, 'learning_rate': 0.02746491437748701, 'l2_leaf_reg': 8.583041671131033, 'random_strength': 1.9933196829518587, 'bagging_temperature': 0.5699561903171579, 'border_count': 205}. Best is trial 32 with value: 0.8116007203329899.\n"
     ]
    },
    {
     "name": "stdout",
     "output_type": "stream",
     "text": [
      "\n",
      "bestTest = 0.769776323\n",
      "bestIteration = 299\n",
      "\n",
      "Training on fold [0/3]\n",
      "\n",
      "bestTest = 0.8217198582\n",
      "bestIteration = 257\n",
      "\n",
      "Training on fold [1/3]\n",
      "\n",
      "bestTest = 0.8421474359\n",
      "bestIteration = 62\n",
      "\n",
      "Training on fold [2/3]\n"
     ]
    },
    {
     "name": "stderr",
     "output_type": "stream",
     "text": [
      "[I 2025-04-18 22:02:32,919] Trial 33 finished with value: 0.8035863843931219 and parameters: {'depth': 8, 'learning_rate': 0.026996778763643824, 'l2_leaf_reg': 7.017439508997046, 'random_strength': 1.816254350708586, 'bagging_temperature': 0.41853971864122186, 'border_count': 181}. Best is trial 32 with value: 0.8116007203329899.\n"
     ]
    },
    {
     "name": "stdout",
     "output_type": "stream",
     "text": [
      "\n",
      "bestTest = 0.7589561738\n",
      "bestIteration = 292\n",
      "\n",
      "Training on fold [0/3]\n",
      "\n",
      "bestTest = 0.8171985816\n",
      "bestIteration = 807\n",
      "\n",
      "Training on fold [1/3]\n",
      "\n",
      "bestTest = 0.8393874644\n",
      "bestIteration = 50\n",
      "\n",
      "Training on fold [2/3]\n"
     ]
    },
    {
     "name": "stderr",
     "output_type": "stream",
     "text": [
      "[I 2025-04-18 22:03:03,205] Trial 34 finished with value: 0.7998469418682185 and parameters: {'depth': 8, 'learning_rate': 0.033242182382860516, 'l2_leaf_reg': 8.295439079067178, 'random_strength': 1.3802171046381952, 'bagging_temperature': 0.49457774203708854, 'border_count': 202}. Best is trial 32 with value: 0.8116007203329899.\n"
     ]
    },
    {
     "name": "stdout",
     "output_type": "stream",
     "text": [
      "\n",
      "bestTest = 0.76132024\n",
      "bestIteration = 23\n",
      "\n",
      "Training on fold [0/3]\n",
      "\n",
      "bestTest = 0.8203014184\n",
      "bestIteration = 218\n",
      "\n",
      "Training on fold [1/3]\n",
      "\n",
      "bestTest = 0.8278133903\n",
      "bestIteration = 35\n",
      "\n",
      "Training on fold [2/3]\n"
     ]
    },
    {
     "name": "stderr",
     "output_type": "stream",
     "text": [
      "[I 2025-04-18 22:03:30,508] Trial 35 finished with value: 0.7971636257097251 and parameters: {'depth': 8, 'learning_rate': 0.028714562727016276, 'l2_leaf_reg': 8.435929427432576, 'random_strength': 1.6127887411927326, 'bagging_temperature': 0.786786607877501, 'border_count': 169}. Best is trial 32 with value: 0.8116007203329899.\n"
     ]
    },
    {
     "name": "stdout",
     "output_type": "stream",
     "text": [
      "\n",
      "bestTest = 0.7581378432\n",
      "bestIteration = 23\n",
      "\n",
      "Training on fold [0/3]\n",
      "\n",
      "bestTest = 0.8317375887\n",
      "bestIteration = 88\n",
      "\n",
      "Training on fold [1/3]\n",
      "\n",
      "bestTest = 0.8092058405\n",
      "bestIteration = 126\n",
      "\n",
      "Training on fold [2/3]\n"
     ]
    },
    {
     "name": "stderr",
     "output_type": "stream",
     "text": [
      "[I 2025-04-18 22:03:58,570] Trial 36 finished with value: 0.7920985633751592 and parameters: {'depth': 8, 'learning_rate': 0.0726822783135598, 'l2_leaf_reg': 6.966430598996406, 'random_strength': 1.8068523551022562, 'bagging_temperature': 0.5772790773812396, 'border_count': 227}. Best is trial 32 with value: 0.8116007203329899.\n"
     ]
    },
    {
     "name": "stdout",
     "output_type": "stream",
     "text": [
      "\n",
      "bestTest = 0.7479541735\n",
      "bestIteration = 1486\n",
      "\n",
      "Training on fold [0/3]\n",
      "\n",
      "bestTest = 0.8250886525\n",
      "bestIteration = 205\n",
      "\n",
      "Training on fold [1/3]\n",
      "\n",
      "bestTest = 0.8267450142\n",
      "bestIteration = 104\n",
      "\n",
      "Training on fold [2/3]\n"
     ]
    },
    {
     "name": "stderr",
     "output_type": "stream",
     "text": [
      "[I 2025-04-18 22:04:20,966] Trial 37 finished with value: 0.7960314754197734 and parameters: {'depth': 7, 'learning_rate': 0.03817090704497048, 'l2_leaf_reg': 5.4196382403823415, 'random_strength': 1.970776643702104, 'bagging_temperature': 0.4286054331287936, 'border_count': 208}. Best is trial 32 with value: 0.8116007203329899.\n"
     ]
    },
    {
     "name": "stdout",
     "output_type": "stream",
     "text": [
      "\n",
      "bestTest = 0.7583196945\n",
      "bestIteration = 224\n",
      "\n",
      "Training on fold [0/3]\n",
      "\n",
      "bestTest = 0.8294326241\n",
      "bestIteration = 230\n",
      "\n",
      "Training on fold [1/3]\n",
      "\n",
      "bestTest = 0.8341346154\n",
      "bestIteration = 284\n",
      "\n",
      "Training on fold [2/3]\n"
     ]
    },
    {
     "name": "stderr",
     "output_type": "stream",
     "text": [
      "[I 2025-04-18 22:04:43,246] Trial 38 finished with value: 0.8077184488088743 and parameters: {'depth': 7, 'learning_rate': 0.025316018541754855, 'l2_leaf_reg': 7.44918964989472, 'random_strength': 1.589270201978691, 'bagging_temperature': 0.8074496704706008, 'border_count': 195}. Best is trial 32 with value: 0.8116007203329899.\n"
     ]
    },
    {
     "name": "stdout",
     "output_type": "stream",
     "text": [
      "\n",
      "bestTest = 0.7641389344\n",
      "bestIteration = 262\n",
      "\n",
      "Training on fold [0/3]\n",
      "\n",
      "bestTest = 0.8225177305\n",
      "bestIteration = 250\n",
      "\n",
      "Training on fold [1/3]\n",
      "\n",
      "bestTest = 0.8301282051\n",
      "bestIteration = 96\n",
      "\n",
      "Training on fold [2/3]\n"
     ]
    },
    {
     "name": "stderr",
     "output_type": "stream",
     "text": [
      "[I 2025-04-18 22:05:04,331] Trial 39 finished with value: 0.7962652300418257 and parameters: {'depth': 7, 'learning_rate': 0.025234815964813216, 'l2_leaf_reg': 4.304994579553535, 'random_strength': 0.9017534480911982, 'bagging_temperature': 0.810397852493674, 'border_count': 241}. Best is trial 32 with value: 0.8116007203329899.\n"
     ]
    },
    {
     "name": "stdout",
     "output_type": "stream",
     "text": [
      "\n",
      "bestTest = 0.7495908347\n",
      "bestIteration = 183\n",
      "\n",
      "Training on fold [0/3]\n",
      "\n",
      "bestTest = 0.8258865248\n",
      "bestIteration = 286\n",
      "\n",
      "Training on fold [1/3]\n",
      "\n",
      "bestTest = 0.8206018519\n",
      "bestIteration = 116\n",
      "\n",
      "Training on fold [2/3]\n"
     ]
    },
    {
     "name": "stderr",
     "output_type": "stream",
     "text": [
      "[I 2025-04-18 22:05:25,328] Trial 40 finished with value: 0.8001255278737548 and parameters: {'depth': 7, 'learning_rate': 0.022578842044377167, 'l2_leaf_reg': 7.452883655548299, 'random_strength': 1.2170757804879426, 'bagging_temperature': 0.9792687498994889, 'border_count': 197}. Best is trial 32 with value: 0.8116007203329899.\n"
     ]
    },
    {
     "name": "stdout",
     "output_type": "stream",
     "text": [
      "\n",
      "bestTest = 0.7639570831\n",
      "bestIteration = 193\n",
      "\n",
      "Training on fold [0/3]\n",
      "\n",
      "bestTest = 0.810106383\n",
      "bestIteration = 1281\n",
      "\n",
      "Training on fold [1/3]\n",
      "\n",
      "bestTest = 0.8185541311\n",
      "bestIteration = 72\n",
      "\n",
      "Training on fold [2/3]\n"
     ]
    },
    {
     "name": "stderr",
     "output_type": "stream",
     "text": [
      "[I 2025-04-18 22:05:56,367] Trial 41 finished with value: 0.7921553918894344 and parameters: {'depth': 8, 'learning_rate': 0.02976160299059296, 'l2_leaf_reg': 8.536719723580838, 'random_strength': 0.4823131632027521, 'bagging_temperature': 0.6986258014890014, 'border_count': 188}. Best is trial 32 with value: 0.8116007203329899.\n"
     ]
    },
    {
     "name": "stdout",
     "output_type": "stream",
     "text": [
      "\n",
      "bestTest = 0.7644117112\n",
      "bestIteration = 192\n",
      "\n",
      "Training on fold [0/3]\n",
      "\n",
      "bestTest = 0.817641844\n",
      "bestIteration = 229\n",
      "\n",
      "Training on fold [1/3]\n",
      "\n",
      "bestTest = 0.8501602564\n",
      "bestIteration = 35\n",
      "\n",
      "Training on fold [2/3]\n"
     ]
    },
    {
     "name": "stderr",
     "output_type": "stream",
     "text": [
      "[I 2025-04-18 22:06:27,148] Trial 42 finished with value: 0.7993205835404417 and parameters: {'depth': 8, 'learning_rate': 0.02534260957110352, 'l2_leaf_reg': 6.592135323284654, 'random_strength': 1.6787289867011808, 'bagging_temperature': 0.5008405126223399, 'border_count': 177}. Best is trial 32 with value: 0.8116007203329899.\n"
     ]
    },
    {
     "name": "stdout",
     "output_type": "stream",
     "text": [
      "\n",
      "bestTest = 0.7624113475\n",
      "bestIteration = 213\n",
      "\n",
      "Training on fold [0/3]\n",
      "\n",
      "bestTest = 0.8249113475\n",
      "bestIteration = 258\n",
      "\n",
      "Training on fold [1/3]\n",
      "\n",
      "bestTest = 0.8360042735\n",
      "bestIteration = 167\n",
      "\n",
      "Training on fold [2/3]\n"
     ]
    },
    {
     "name": "stderr",
     "output_type": "stream",
     "text": [
      "[I 2025-04-18 22:06:59,575] Trial 43 finished with value: 0.8069472227273646 and parameters: {'depth': 8, 'learning_rate': 0.022202900630902085, 'l2_leaf_reg': 7.852397750239785, 'random_strength': 1.8765931267815408, 'bagging_temperature': 0.611470342115381, 'border_count': 215}. Best is trial 32 with value: 0.8116007203329899.\n"
     ]
    },
    {
     "name": "stdout",
     "output_type": "stream",
     "text": [
      "\n",
      "bestTest = 0.7633206037\n",
      "bestIteration = 155\n",
      "\n",
      "Training on fold [0/3]\n",
      "\n",
      "bestTest = 0.8265070922\n",
      "bestIteration = 359\n",
      "\n",
      "Training on fold [1/3]\n",
      "\n",
      "bestTest = 0.8254985755\n",
      "bestIteration = 79\n",
      "\n",
      "Training on fold [2/3]\n"
     ]
    },
    {
     "name": "stderr",
     "output_type": "stream",
     "text": [
      "[I 2025-04-18 22:07:28,824] Trial 44 finished with value: 0.8025274797437918 and parameters: {'depth': 8, 'learning_rate': 0.020252153513599866, 'l2_leaf_reg': 7.567970251778449, 'random_strength': 1.88560462550873, 'bagging_temperature': 0.9122224765114132, 'border_count': 212}. Best is trial 32 with value: 0.8116007203329899.\n"
     ]
    },
    {
     "name": "stdout",
     "output_type": "stream",
     "text": [
      "\n",
      "bestTest = 0.7629569013\n",
      "bestIteration = 285\n",
      "\n",
      "Training on fold [0/3]\n",
      "\n",
      "bestTest = 0.8090425532\n",
      "bestIteration = 63\n",
      "\n",
      "Training on fold [1/3]\n",
      "\n",
      "bestTest = 0.8253205128\n",
      "bestIteration = 76\n",
      "\n",
      "Training on fold [2/3]\n"
     ]
    },
    {
     "name": "stderr",
     "output_type": "stream",
     "text": [
      "[I 2025-04-18 22:07:49,589] Trial 45 finished with value: 0.7971444303004587 and parameters: {'depth': 7, 'learning_rate': 0.10342731026496901, 'l2_leaf_reg': 5.639413556726566, 'random_strength': 1.5706119659493567, 'bagging_temperature': 0.6149260231068299, 'border_count': 222}. Best is trial 32 with value: 0.8116007203329899.\n"
     ]
    },
    {
     "name": "stdout",
     "output_type": "stream",
     "text": [
      "\n",
      "bestTest = 0.790507365\n",
      "bestIteration = 4\n",
      "\n",
      "Training on fold [0/3]\n",
      "\n",
      "bestTest = 0.8243794326\n",
      "bestIteration = 320\n",
      "\n",
      "Training on fold [1/3]\n",
      "\n",
      "bestTest = 0.8410790598\n",
      "bestIteration = 64\n",
      "\n",
      "Training on fold [2/3]\n"
     ]
    },
    {
     "name": "stderr",
     "output_type": "stream",
     "text": [
      "[I 2025-04-18 22:08:19,240] Trial 46 finished with value: 0.8051601553817865 and parameters: {'depth': 8, 'learning_rate': 0.0220021310271554, 'l2_leaf_reg': 6.539958057913519, 'random_strength': 1.4128152445360973, 'bagging_temperature': 0.6783563655038353, 'border_count': 244}. Best is trial 32 with value: 0.8116007203329899.\n"
     ]
    },
    {
     "name": "stdout",
     "output_type": "stream",
     "text": [
      "\n",
      "bestTest = 0.7665030005\n",
      "bestIteration = 315\n",
      "\n",
      "Training on fold [0/3]\n",
      "\n",
      "bestTest = 0.8196808511\n",
      "bestIteration = 212\n",
      "\n",
      "Training on fold [1/3]\n",
      "\n",
      "bestTest = 0.8162393162\n",
      "bestIteration = 74\n",
      "\n",
      "Training on fold [2/3]\n"
     ]
    },
    {
     "name": "stderr",
     "output_type": "stream",
     "text": [
      "[I 2025-04-18 22:08:41,655] Trial 47 finished with value: 0.7911783203006607 and parameters: {'depth': 7, 'learning_rate': 0.02747377525667947, 'l2_leaf_reg': 1.5122965970498083, 'random_strength': 1.8560814396459462, 'bagging_temperature': 0.8212950622792337, 'border_count': 205}. Best is trial 32 with value: 0.8116007203329899.\n"
     ]
    },
    {
     "name": "stdout",
     "output_type": "stream",
     "text": [
      "\n",
      "bestTest = 0.7510456447\n",
      "bestIteration = 312\n",
      "\n",
      "Training on fold [0/3]\n",
      "\n",
      "bestTest = 0.8120567376\n",
      "bestIteration = 150\n",
      "\n",
      "Training on fold [1/3]\n",
      "\n",
      "bestTest = 0.8280804843\n",
      "bestIteration = 27\n",
      "\n",
      "Training on fold [2/3]\n"
     ]
    },
    {
     "name": "stderr",
     "output_type": "stream",
     "text": [
      "[I 2025-04-18 22:08:55,964] Trial 48 finished with value: 0.7869430805601018 and parameters: {'depth': 5, 'learning_rate': 0.048253588093741556, 'l2_leaf_reg': 5.011304708244448, 'random_strength': 1.5235393202707914, 'bagging_temperature': 0.641852622731555, 'border_count': 227}. Best is trial 32 with value: 0.8116007203329899.\n"
     ]
    },
    {
     "name": "stdout",
     "output_type": "stream",
     "text": [
      "\n",
      "bestTest = 0.7432260411\n",
      "bestIteration = 159\n",
      "\n",
      "Training on fold [0/3]\n",
      "\n",
      "bestTest = 0.8282801418\n",
      "bestIteration = 291\n",
      "\n",
      "Training on fold [1/3]\n",
      "\n",
      "bestTest = 0.8414351852\n",
      "bestIteration = 156\n",
      "\n",
      "Training on fold [2/3]\n"
     ]
    },
    {
     "name": "stderr",
     "output_type": "stream",
     "text": [
      "[I 2025-04-18 22:09:23,580] Trial 49 finished with value: 0.8057941090299247 and parameters: {'depth': 8, 'learning_rate': 0.022732769962194185, 'l2_leaf_reg': 8.909575523424865, 'random_strength': 1.178239780441817, 'bagging_temperature': 0.1099097543938018, 'border_count': 219}. Best is trial 32 with value: 0.8116007203329899.\n"
     ]
    },
    {
     "name": "stdout",
     "output_type": "stream",
     "text": [
      "\n",
      "bestTest = 0.7526823059\n",
      "bestIteration = 216\n",
      "\n",
      "Training on fold [0/3]\n",
      "\n",
      "bestTest = 0.820035461\n",
      "bestIteration = 271\n",
      "\n",
      "Training on fold [1/3]\n",
      "\n",
      "bestTest = 0.8435719373\n",
      "bestIteration = 163\n",
      "\n",
      "Training on fold [2/3]\n"
     ]
    },
    {
     "name": "stderr",
     "output_type": "stream",
     "text": [
      "[I 2025-04-18 22:09:52,423] Trial 50 finished with value: 0.8021102321634236 and parameters: {'depth': 8, 'learning_rate': 0.02526753884749783, 'l2_leaf_reg': 9.0927739929247, 'random_strength': 1.1633916875288792, 'bagging_temperature': 0.09692133143869586, 'border_count': 219}. Best is trial 32 with value: 0.8116007203329899.\n"
     ]
    },
    {
     "name": "stdout",
     "output_type": "stream",
     "text": [
      "\n",
      "bestTest = 0.7493180578\n",
      "bestIteration = 350\n",
      "\n",
      "Training on fold [0/3]\n",
      "\n",
      "bestTest = 0.8208333333\n",
      "bestIteration = 381\n",
      "\n",
      "Training on fold [1/3]\n",
      "\n",
      "bestTest = 0.8361823362\n",
      "bestIteration = 272\n",
      "\n",
      "Training on fold [2/3]\n"
     ]
    },
    {
     "name": "stderr",
     "output_type": "stream",
     "text": [
      "[I 2025-04-18 22:10:21,205] Trial 51 finished with value: 0.8043607676143137 and parameters: {'depth': 8, 'learning_rate': 0.022078412646348047, 'l2_leaf_reg': 7.6567626092535015, 'random_strength': 1.0266416183328575, 'bagging_temperature': 0.3763711750918619, 'border_count': 230}. Best is trial 32 with value: 0.8116007203329899.\n"
     ]
    },
    {
     "name": "stdout",
     "output_type": "stream",
     "text": [
      "\n",
      "bestTest = 0.7655028187\n",
      "bestIteration = 163\n",
      "\n",
      "Training on fold [0/3]\n",
      "\n",
      "bestTest = 0.8265957447\n",
      "bestIteration = 807\n",
      "\n",
      "Training on fold [1/3]\n",
      "\n",
      "bestTest = 0.8411680912\n",
      "bestIteration = 47\n",
      "\n",
      "Training on fold [2/3]\n"
     ]
    },
    {
     "name": "stderr",
     "output_type": "stream",
     "text": [
      "[I 2025-04-18 22:10:49,238] Trial 52 finished with value: 0.804297498535087 and parameters: {'depth': 8, 'learning_rate': 0.023671680160239777, 'l2_leaf_reg': 8.934917802326467, 'random_strength': 1.3389177654510382, 'bagging_temperature': 0.24528575774697203, 'border_count': 209}. Best is trial 32 with value: 0.8116007203329899.\n"
     ]
    },
    {
     "name": "stdout",
     "output_type": "stream",
     "text": [
      "\n",
      "bestTest = 0.7628659756\n",
      "bestIteration = 204\n",
      "\n",
      "Training on fold [0/3]\n",
      "\n",
      "bestTest = 0.8268617021\n",
      "bestIteration = 342\n",
      "\n",
      "Training on fold [1/3]\n",
      "\n",
      "bestTest = 0.8313746439\n",
      "bestIteration = 64\n",
      "\n",
      "Training on fold [2/3]\n"
     ]
    },
    {
     "name": "stderr",
     "output_type": "stream",
     "text": [
      "[I 2025-04-18 22:11:17,957] Trial 53 finished with value: 0.80523377987917 and parameters: {'depth': 8, 'learning_rate': 0.020224207805175323, 'l2_leaf_reg': 6.965481578269891, 'random_strength': 1.9274992138510612, 'bagging_temperature': 0.19345971668250284, 'border_count': 197}. Best is trial 32 with value: 0.8116007203329899.\n"
     ]
    },
    {
     "name": "stdout",
     "output_type": "stream",
     "text": [
      "\n",
      "bestTest = 0.7655937443\n",
      "bestIteration = 223\n",
      "\n",
      "Training on fold [0/3]\n",
      "\n",
      "bestTest = 0.8203900709\n",
      "bestIteration = 213\n",
      "\n",
      "Training on fold [1/3]\n",
      "\n",
      "bestTest = 0.8411680912\n",
      "bestIteration = 55\n",
      "\n",
      "Training on fold [2/3]\n"
     ]
    },
    {
     "name": "stderr",
     "output_type": "stream",
     "text": [
      "[I 2025-04-18 22:11:46,879] Trial 54 finished with value: 0.804714619829868 and parameters: {'depth': 8, 'learning_rate': 0.027747573303541714, 'l2_leaf_reg': 7.903939521592678, 'random_strength': 1.4512173512880155, 'bagging_temperature': 0.468361662487754, 'border_count': 217}. Best is trial 32 with value: 0.8116007203329899.\n"
     ]
    },
    {
     "name": "stdout",
     "output_type": "stream",
     "text": [
      "\n",
      "bestTest = 0.7695944717\n",
      "bestIteration = 110\n",
      "\n",
      "Training on fold [0/3]\n",
      "\n",
      "bestTest = 0.8039007092\n",
      "bestIteration = 192\n",
      "\n",
      "Training on fold [1/3]\n",
      "\n",
      "bestTest = 0.8373397436\n",
      "bestIteration = 64\n",
      "\n",
      "Training on fold [2/3]\n"
     ]
    },
    {
     "name": "stderr",
     "output_type": "stream",
     "text": [
      "[I 2025-04-18 22:12:20,549] Trial 55 finished with value: 0.796460341274171 and parameters: {'depth': 8, 'learning_rate': 0.030402705686094284, 'l2_leaf_reg': 4.547149093294393, 'random_strength': 0.9274163801014925, 'bagging_temperature': 0.5899485926441654, 'border_count': 122}. Best is trial 32 with value: 0.8116007203329899.\n"
     ]
    },
    {
     "name": "stdout",
     "output_type": "stream",
     "text": [
      "\n",
      "bestTest = 0.7648663393\n",
      "bestIteration = 128\n",
      "\n",
      "Training on fold [0/3]\n",
      "\n",
      "bestTest = 0.8381205674\n",
      "bestIteration = 248\n",
      "\n",
      "Training on fold [1/3]\n",
      "\n",
      "bestTest = 0.8363603989\n",
      "bestIteration = 35\n",
      "\n",
      "Training on fold [2/3]\n"
     ]
    },
    {
     "name": "stderr",
     "output_type": "stream",
     "text": [
      "[I 2025-04-18 22:12:41,897] Trial 56 finished with value: 0.8106495372896082 and parameters: {'depth': 7, 'learning_rate': 0.022830418499077937, 'l2_leaf_reg': 5.874153774865072, 'random_strength': 1.6862336229249504, 'bagging_temperature': 0.3024533224435313, 'border_count': 67}. Best is trial 32 with value: 0.8116007203329899.\n"
     ]
    },
    {
     "name": "stdout",
     "output_type": "stream",
     "text": [
      "\n",
      "bestTest = 0.7623204219\n",
      "bestIteration = 309\n",
      "\n",
      "Training on fold [0/3]\n",
      "\n",
      "bestTest = 0.8217198582\n",
      "bestIteration = 339\n",
      "\n",
      "Training on fold [1/3]\n",
      "\n",
      "bestTest = 0.8263888889\n",
      "bestIteration = 73\n",
      "\n",
      "Training on fold [2/3]\n"
     ]
    },
    {
     "name": "stderr",
     "output_type": "stream",
     "text": [
      "[I 2025-04-18 22:12:59,510] Trial 57 finished with value: 0.793612601281041 and parameters: {'depth': 6, 'learning_rate': 0.02640122576486042, 'l2_leaf_reg': 8.798035707334492, 'random_strength': 1.7562032120978088, 'bagging_temperature': 0.060952763997530246, 'border_count': 70}. Best is trial 32 with value: 0.8116007203329899.\n"
     ]
    },
    {
     "name": "stdout",
     "output_type": "stream",
     "text": [
      "\n",
      "bestTest = 0.7555919258\n",
      "bestIteration = 81\n",
      "\n",
      "Training on fold [0/3]\n",
      "\n",
      "bestTest = 0.8295212766\n",
      "bestIteration = 305\n",
      "\n",
      "Training on fold [1/3]\n",
      "\n",
      "bestTest = 0.8271901709\n",
      "bestIteration = 285\n",
      "\n",
      "Training on fold [2/3]\n"
     ]
    },
    {
     "name": "stderr",
     "output_type": "stream",
     "text": [
      "[I 2025-04-18 22:13:21,188] Trial 58 finished with value: 0.8062907902446909 and parameters: {'depth': 7, 'learning_rate': 0.02386966442752194, 'l2_leaf_reg': 6.573179838615886, 'random_strength': 1.1525198963823964, 'bagging_temperature': 0.2714763458080724, 'border_count': 149}. Best is trial 32 with value: 0.8116007203329899.\n"
     ]
    },
    {
     "name": "stdout",
     "output_type": "stream",
     "text": [
      "\n",
      "bestTest = 0.7702309511\n",
      "bestIteration = 190\n",
      "\n",
      "Training on fold [0/3]\n",
      "\n",
      "bestTest = 0.8218971631\n",
      "bestIteration = 270\n",
      "\n",
      "Training on fold [1/3]\n",
      "\n",
      "bestTest = 0.8364494302\n",
      "bestIteration = 346\n",
      "\n",
      "Training on fold [2/3]\n"
     ]
    },
    {
     "name": "stderr",
     "output_type": "stream",
     "text": [
      "[I 2025-04-18 22:13:44,340] Trial 59 finished with value: 0.8031698945262775 and parameters: {'depth': 7, 'learning_rate': 0.02223126421903164, 'l2_leaf_reg': 7.726448208058505, 'random_strength': 1.1062698011738026, 'bagging_temperature': 0.29361585285094927, 'border_count': 86}. Best is trial 32 with value: 0.8116007203329899.\n"
     ]
    },
    {
     "name": "stdout",
     "output_type": "stream",
     "text": [
      "\n",
      "bestTest = 0.7581378432\n",
      "bestIteration = 209\n",
      "\n",
      "Training on fold [0/3]\n",
      "\n",
      "bestTest = 0.8247340426\n",
      "bestIteration = 223\n",
      "\n",
      "Training on fold [1/3]\n",
      "\n",
      "bestTest = 0.8185541311\n",
      "bestIteration = 38\n",
      "\n",
      "Training on fold [2/3]\n"
     ]
    },
    {
     "name": "stderr",
     "output_type": "stream",
     "text": [
      "[I 2025-04-18 22:14:01,469] Trial 60 finished with value: 0.7977572942555211 and parameters: {'depth': 6, 'learning_rate': 0.14689404763640013, 'l2_leaf_reg': 6.65939429066083, 'random_strength': 0.5195932519693358, 'bagging_temperature': 0.27935459411477837, 'border_count': 147}. Best is trial 32 with value: 0.8116007203329899.\n"
     ]
    },
    {
     "name": "stdout",
     "output_type": "stream",
     "text": [
      "\n",
      "bestTest = 0.7743226041\n",
      "bestIteration = 26\n",
      "\n",
      "Training on fold [0/3]\n",
      "\n",
      "bestTest = 0.8335992908\n",
      "bestIteration = 202\n",
      "\n",
      "Training on fold [1/3]\n",
      "\n",
      "bestTest = 0.8420584046\n",
      "bestIteration = 148\n",
      "\n",
      "Training on fold [2/3]\n"
     ]
    },
    {
     "name": "stderr",
     "output_type": "stream",
     "text": [
      "[I 2025-04-18 22:14:25,460] Trial 61 finished with value: 0.8098111272756663 and parameters: {'depth': 7, 'learning_rate': 0.024511930445547104, 'l2_leaf_reg': 5.894034113874745, 'random_strength': 1.1862221545910545, 'bagging_temperature': 0.17453206823817558, 'border_count': 114}. Best is trial 32 with value: 0.8116007203329899.\n"
     ]
    },
    {
     "name": "stdout",
     "output_type": "stream",
     "text": [
      "\n",
      "bestTest = 0.7592289507\n",
      "bestIteration = 228\n",
      "\n",
      "Training on fold [0/3]\n",
      "\n",
      "bestTest = 0.8159574468\n",
      "bestIteration = 202\n",
      "\n",
      "Training on fold [1/3]\n",
      "\n",
      "bestTest = 0.8354700855\n",
      "bestIteration = 250\n",
      "\n",
      "Training on fold [2/3]\n"
     ]
    },
    {
     "name": "stderr",
     "output_type": "stream",
     "text": [
      "[I 2025-04-18 22:14:48,659] Trial 62 finished with value: 0.8027272635428663 and parameters: {'depth': 7, 'learning_rate': 0.024577414840331175, 'l2_leaf_reg': 6.204430192443067, 'random_strength': 0.9221991232857906, 'bagging_temperature': 0.16706654363637558, 'border_count': 100}. Best is trial 32 with value: 0.8116007203329899.\n"
     ]
    },
    {
     "name": "stdout",
     "output_type": "stream",
     "text": [
      "\n",
      "bestTest = 0.7752318603\n",
      "bestIteration = 25\n",
      "\n",
      "Training on fold [0/3]\n",
      "\n",
      "bestTest = 0.8120567376\n",
      "bestIteration = 214\n",
      "\n",
      "Training on fold [1/3]\n",
      "\n",
      "bestTest = 0.8165064103\n",
      "bestIteration = 243\n",
      "\n",
      "Training on fold [2/3]\n"
     ]
    },
    {
     "name": "stderr",
     "output_type": "stream",
     "text": [
      "[I 2025-04-18 22:15:06,021] Trial 63 finished with value: 0.7908298983653593 and parameters: {'depth': 6, 'learning_rate': 0.028752237316827304, 'l2_leaf_reg': 5.863780908084764, 'random_strength': 1.1585065676558575, 'bagging_temperature': 0.13559572349197344, 'border_count': 120}. Best is trial 32 with value: 0.8116007203329899.\n"
     ]
    },
    {
     "name": "stdout",
     "output_type": "stream",
     "text": [
      "\n",
      "bestTest = 0.7584106201\n",
      "bestIteration = 29\n",
      "\n",
      "Training on fold [0/3]\n",
      "\n",
      "bestTest = 0.822606383\n",
      "bestIteration = 380\n",
      "\n",
      "Training on fold [1/3]\n",
      "\n",
      "bestTest = 0.8457977208\n",
      "bestIteration = 59\n",
      "\n",
      "Training on fold [2/3]\n"
     ]
    },
    {
     "name": "stderr",
     "output_type": "stream",
     "text": [
      "[I 2025-04-18 22:15:27,957] Trial 64 finished with value: 0.8058205027176658 and parameters: {'depth': 7, 'learning_rate': 0.023137993132005208, 'l2_leaf_reg': 9.156441746548944, 'random_strength': 1.2209969681105466, 'bagging_temperature': 0.11902424106201626, 'border_count': 83}. Best is trial 32 with value: 0.8116007203329899.\n"
     ]
    },
    {
     "name": "stdout",
     "output_type": "stream",
     "text": [
      "\n",
      "bestTest = 0.768321513\n",
      "bestIteration = 252\n",
      "\n",
      "Training on fold [0/3]\n",
      "\n",
      "bestTest = 0.8252659574\n",
      "bestIteration = 192\n",
      "\n",
      "Training on fold [1/3]\n",
      "\n",
      "bestTest = 0.8409009972\n",
      "bestIteration = 212\n",
      "\n",
      "Training on fold [2/3]\n"
     ]
    },
    {
     "name": "stderr",
     "output_type": "stream",
     "text": [
      "[I 2025-04-18 22:15:51,005] Trial 65 finished with value: 0.8027792932048251 and parameters: {'depth': 7, 'learning_rate': 0.0316224845940528, 'l2_leaf_reg': 7.296969805476793, 'random_strength': 1.2612904332370767, 'bagging_temperature': 0.1964811824626268, 'border_count': 76}. Best is trial 32 with value: 0.8116007203329899.\n"
     ]
    },
    {
     "name": "stdout",
     "output_type": "stream",
     "text": [
      "\n",
      "bestTest = 0.7622294963\n",
      "bestIteration = 36\n",
      "\n",
      "Training on fold [0/3]\n",
      "\n",
      "bestTest = 0.8343085106\n",
      "bestIteration = 267\n",
      "\n",
      "Training on fold [1/3]\n",
      "\n",
      "bestTest = 0.8370726496\n",
      "bestIteration = 57\n",
      "\n",
      "Training on fold [2/3]\n"
     ]
    },
    {
     "name": "stderr",
     "output_type": "stream",
     "text": [
      "[I 2025-04-18 22:16:13,999] Trial 66 finished with value: 0.8042075831969449 and parameters: {'depth': 7, 'learning_rate': 0.03514584085011459, 'l2_leaf_reg': 2.9661254561153294, 'random_strength': 1.995164107964012, 'bagging_temperature': 0.264408855871836, 'border_count': 104}. Best is trial 32 with value: 0.8116007203329899.\n"
     ]
    },
    {
     "name": "stdout",
     "output_type": "stream",
     "text": [
      "\n",
      "bestTest = 0.7641389344\n",
      "bestIteration = 34\n",
      "\n",
      "Training on fold [0/3]\n",
      "\n",
      "bestTest = 0.822606383\n",
      "bestIteration = 227\n",
      "\n",
      "Training on fold [1/3]\n",
      "\n",
      "bestTest = 0.8205128205\n",
      "bestIteration = 269\n",
      "\n",
      "Training on fold [2/3]\n"
     ]
    },
    {
     "name": "stderr",
     "output_type": "stream",
     "text": [
      "[I 2025-04-18 22:16:36,408] Trial 67 finished with value: 0.7952317087955386 and parameters: {'depth': 7, 'learning_rate': 0.026111541497545545, 'l2_leaf_reg': 3.58865154748384, 'random_strength': 1.0850563724847748, 'bagging_temperature': 0.31374905990293095, 'border_count': 88}. Best is trial 32 with value: 0.8116007203329899.\n"
     ]
    },
    {
     "name": "stdout",
     "output_type": "stream",
     "text": [
      "\n",
      "bestTest = 0.7501363884\n",
      "bestIteration = 299\n",
      "\n",
      "Training on fold [0/3]\n",
      "\n",
      "bestTest = 0.8300531915\n",
      "bestIteration = 255\n",
      "\n",
      "Training on fold [1/3]\n",
      "\n",
      "bestTest = 0.8306623932\n",
      "bestIteration = 33\n",
      "\n",
      "Training on fold [2/3]\n"
     ]
    },
    {
     "name": "stderr",
     "output_type": "stream",
     "text": [
      "[I 2025-04-18 22:16:53,921] Trial 68 finished with value: 0.8043622830413609 and parameters: {'depth': 6, 'learning_rate': 0.021820621724659345, 'l2_leaf_reg': 9.25195411417181, 'random_strength': 1.3714125239812576, 'bagging_temperature': 0.3501409990556152, 'border_count': 75}. Best is trial 32 with value: 0.8116007203329899.\n"
     ]
    },
    {
     "name": "stdout",
     "output_type": "stream",
     "text": [
      "\n",
      "bestTest = 0.7691398436\n",
      "bestIteration = 30\n",
      "\n",
      "Training on fold [0/3]\n",
      "\n",
      "bestTest = 0.8191489362\n",
      "bestIteration = 295\n",
      "\n",
      "Training on fold [1/3]\n",
      "\n",
      "bestTest = 0.8189102564\n",
      "bestIteration = 115\n",
      "\n",
      "Training on fold [2/3]\n"
     ]
    },
    {
     "name": "stderr",
     "output_type": "stream",
     "text": [
      "[I 2025-04-18 22:17:15,432] Trial 69 finished with value: 0.7910807015416944 and parameters: {'depth': 7, 'learning_rate': 0.02410224556783691, 'l2_leaf_reg': 8.097674718077121, 'random_strength': 0.8028087965119333, 'bagging_temperature': 0.052120308050682435, 'border_count': 129}. Best is trial 32 with value: 0.8116007203329899.\n"
     ]
    },
    {
     "name": "stdout",
     "output_type": "stream",
     "text": [
      "\n",
      "bestTest = 0.7460447354\n",
      "bestIteration = 179\n",
      "\n",
      "Training on fold [0/3]\n",
      "\n",
      "bestTest = 0.8089539007\n",
      "bestIteration = 67\n",
      "\n",
      "Training on fold [1/3]\n",
      "\n",
      "bestTest = 0.8170405983\n",
      "bestIteration = 105\n",
      "\n",
      "Training on fold [2/3]\n"
     ]
    },
    {
     "name": "stderr",
     "output_type": "stream",
     "text": [
      "[I 2025-04-18 22:17:39,086] Trial 70 finished with value: 0.7825574346850942 and parameters: {'depth': 7, 'learning_rate': 0.055137106018077406, 'l2_leaf_reg': 2.642646624312898, 'random_strength': 1.0060404569338213, 'bagging_temperature': 0.15218398060271066, 'border_count': 110}. Best is trial 32 with value: 0.8116007203329899.\n"
     ]
    },
    {
     "name": "stdout",
     "output_type": "stream",
     "text": [
      "\n",
      "bestTest = 0.7512274959\n",
      "bestIteration = 6\n",
      "\n",
      "Training on fold [0/3]\n",
      "\n",
      "bestTest = 0.827570922\n",
      "bestIteration = 240\n",
      "\n",
      "Training on fold [1/3]\n",
      "\n",
      "bestTest = 0.8501602564\n",
      "bestIteration = 165\n",
      "\n",
      "Training on fold [2/3]\n"
     ]
    },
    {
     "name": "stderr",
     "output_type": "stream",
     "text": [
      "[I 2025-04-18 22:17:59,814] Trial 71 finished with value: 0.811079792285466 and parameters: {'depth': 7, 'learning_rate': 0.022812286070061978, 'l2_leaf_reg': 9.263103739708697, 'random_strength': 1.1564390644006894, 'bagging_temperature': 0.12290923441410766, 'border_count': 64}. Best is trial 32 with value: 0.8116007203329899.\n"
     ]
    },
    {
     "name": "stdout",
     "output_type": "stream",
     "text": [
      "\n",
      "bestTest = 0.7654118931\n",
      "bestIteration = 36\n",
      "\n",
      "Training on fold [0/3]\n",
      "\n",
      "bestTest = 0.8058510638\n",
      "bestIteration = 268\n",
      "\n",
      "Training on fold [1/3]\n",
      "\n",
      "bestTest = 0.8254095442\n",
      "bestIteration = 46\n",
      "\n",
      "Training on fold [2/3]\n"
     ]
    },
    {
     "name": "stderr",
     "output_type": "stream",
     "text": [
      "[I 2025-04-18 22:18:14,625] Trial 72 finished with value: 0.7868736234870987 and parameters: {'depth': 5, 'learning_rate': 0.02362703443922176, 'l2_leaf_reg': 7.063459658345654, 'random_strength': 0.13112754957597494, 'bagging_temperature': 0.11339255290346942, 'border_count': 66}. Best is trial 32 with value: 0.8116007203329899.\n"
     ]
    },
    {
     "name": "stdout",
     "output_type": "stream",
     "text": [
      "\n",
      "bestTest = 0.7474086197\n",
      "bestIteration = 123\n",
      "\n",
      "Training on fold [0/3]\n",
      "\n",
      "bestTest = 0.8243794326\n",
      "bestIteration = 334\n",
      "\n",
      "Training on fold [1/3]\n",
      "\n",
      "bestTest = 0.8333333333\n",
      "bestIteration = 52\n",
      "\n",
      "Training on fold [2/3]\n"
     ]
    },
    {
     "name": "stderr",
     "output_type": "stream",
     "text": [
      "[I 2025-04-18 22:18:40,723] Trial 73 finished with value: 0.8075783980925825 and parameters: {'depth': 7, 'learning_rate': 0.02153640925063069, 'l2_leaf_reg': 9.432372051051475, 'random_strength': 1.2369645562034666, 'bagging_temperature': 0.20191436699572007, 'border_count': 83}. Best is trial 32 with value: 0.8116007203329899.\n"
     ]
    },
    {
     "name": "stdout",
     "output_type": "stream",
     "text": [
      "\n",
      "bestTest = 0.768321513\n",
      "bestIteration = 263\n",
      "\n",
      "Training on fold [0/3]\n",
      "\n",
      "bestTest = 0.8207446809\n",
      "bestIteration = 361\n",
      "\n",
      "Training on fold [1/3]\n",
      "\n",
      "bestTest = 0.8295940171\n",
      "bestIteration = 383\n",
      "\n",
      "Training on fold [2/3]\n"
     ]
    },
    {
     "name": "stderr",
     "output_type": "stream",
     "text": [
      "[I 2025-04-18 22:19:07,654] Trial 74 finished with value: 0.8023140571012911 and parameters: {'depth': 7, 'learning_rate': 0.021420909715191633, 'l2_leaf_reg': 8.009996128450174, 'random_strength': 1.523384731634205, 'bagging_temperature': 0.2050523497202712, 'border_count': 94}. Best is trial 32 with value: 0.8116007203329899.\n"
     ]
    },
    {
     "name": "stdout",
     "output_type": "stream",
     "text": [
      "\n",
      "bestTest = 0.7675031824\n",
      "bestIteration = 57\n",
      "\n",
      "Training on fold [0/3]\n",
      "\n",
      "bestTest = 0.8182624113\n",
      "bestIteration = 213\n",
      "\n",
      "Training on fold [1/3]\n",
      "\n",
      "bestTest = 0.8318198006\n",
      "bestIteration = 45\n",
      "\n",
      "Training on fold [2/3]\n"
     ]
    },
    {
     "name": "stderr",
     "output_type": "stream",
     "text": [
      "[I 2025-04-18 22:19:31,223] Trial 75 finished with value: 0.7964680446949951 and parameters: {'depth': 7, 'learning_rate': 0.028019549581303992, 'l2_leaf_reg': 6.445179696266517, 'random_strength': 0.955586578316119, 'bagging_temperature': 0.16877495239253332, 'border_count': 78}. Best is trial 32 with value: 0.8116007203329899.\n"
     ]
    },
    {
     "name": "stdout",
     "output_type": "stream",
     "text": [
      "\n",
      "bestTest = 0.7521367521\n",
      "bestIteration = 227\n",
      "\n",
      "Training on fold [0/3]\n",
      "\n",
      "bestTest = 0.8249113475\n",
      "bestIteration = 223\n",
      "\n",
      "Training on fold [1/3]\n",
      "\n",
      "bestTest = 0.8270121083\n",
      "bestIteration = 271\n",
      "\n",
      "Training on fold [2/3]\n"
     ]
    },
    {
     "name": "stderr",
     "output_type": "stream",
     "text": [
      "[I 2025-04-18 22:19:55,389] Trial 76 finished with value: 0.8050954971611001 and parameters: {'depth': 7, 'learning_rate': 0.021438165892849585, 'l2_leaf_reg': 5.433993792223836, 'random_strength': 1.3109133031676892, 'bagging_temperature': 0.23592347427742655, 'border_count': 70}. Best is trial 32 with value: 0.8116007203329899.\n"
     ]
    },
    {
     "name": "stdout",
     "output_type": "stream",
     "text": [
      "\n",
      "bestTest = 0.7672304055\n",
      "bestIteration = 35\n",
      "\n",
      "Training on fold [0/3]\n",
      "\n",
      "bestTest = 0.8258865248\n",
      "bestIteration = 274\n",
      "\n",
      "Training on fold [1/3]\n",
      "\n",
      "bestTest = 0.8422364672\n",
      "bestIteration = 98\n",
      "\n",
      "Training on fold [2/3]\n"
     ]
    },
    {
     "name": "stderr",
     "output_type": "stream",
     "text": [
      "[I 2025-04-18 22:20:13,153] Trial 77 finished with value: 0.8055047887494696 and parameters: {'depth': 6, 'learning_rate': 0.025784643024754826, 'l2_leaf_reg': 9.499018168242724, 'random_strength': 1.7167773795202077, 'bagging_temperature': 0.9287322161519651, 'border_count': 155}. Best is trial 32 with value: 0.8116007203329899.\n"
     ]
    },
    {
     "name": "stdout",
     "output_type": "stream",
     "text": [
      "\n",
      "bestTest = 0.7628659756\n",
      "bestIteration = 68\n",
      "\n",
      "Training on fold [0/3]\n",
      "\n",
      "bestTest = 0.8286347518\n",
      "bestIteration = 237\n",
      "\n",
      "Training on fold [1/3]\n",
      "\n",
      "bestTest = 0.8416132479\n",
      "bestIteration = 184\n",
      "\n",
      "Training on fold [2/3]\n"
     ]
    },
    {
     "name": "stderr",
     "output_type": "stream",
     "text": [
      "[I 2025-04-18 22:20:34,678] Trial 78 finished with value: 0.8075552878301105 and parameters: {'depth': 7, 'learning_rate': 0.02661907120920768, 'l2_leaf_reg': 8.60953852974748, 'random_strength': 1.943337096009256, 'bagging_temperature': 0.08445572117344974, 'border_count': 65}. Best is trial 32 with value: 0.8116007203329899.\n"
     ]
    },
    {
     "name": "stdout",
     "output_type": "stream",
     "text": [
      "\n",
      "bestTest = 0.7625931988\n",
      "bestIteration = 28\n",
      "\n"
     ]
    }
   ],
   "source": [
    "train_pool = Pool(X_train_enc, y_train)\n",
    "\n",
    "def objective(trial):\n",
    "    params = {\n",
    "        \"depth\"             : trial.suggest_int(\"depth\",4,8),\n",
    "        \"learning_rate\"     : trial.suggest_float(\"learning_rate\",0.02,0.15,log=True),\n",
    "        \"l2_leaf_reg\"       : trial.suggest_float(\"l2_leaf_reg\",1,10,log=True),\n",
    "        \"random_strength\"   : trial.suggest_float(\"random_strength\",0,2),\n",
    "        \"bagging_temperature\": trial.suggest_float(\"bagging_temperature\",0,1),\n",
    "        \"border_count\"      : trial.suggest_int(\"border_count\",64,255),\n",
    "\n",
    "        \"loss_function\" : \"Logloss\",\n",
    "        \"eval_metric\"   : \"AUC\",\n",
    "        \"iterations\"    : 1500,\n",
    "        \"verbose\"       : 0,\n",
    "        \"random_seed\"   : 42,\n",
    "        \"class_weights\" : [1, y_train.value_counts()[0]/y_train.value_counts()[1]]\n",
    "    }\n",
    "    cv_res = cv(train_pool, params, fold_count=3, stratified=True, verbose=False)\n",
    "    return np.max(cv_res['test-AUC-mean'])\n",
    "\n",
    "study = optuna.create_study(direction='maximize')\n",
    "study.optimize(objective, n_trials=100, timeout=1800)"
   ]
  },
  {
   "cell_type": "code",
   "execution_count": null,
   "id": "7b6b4532",
   "metadata": {},
   "outputs": [
    {
     "name": "stdout",
     "output_type": "stream",
     "text": [
      "0:\ttest: 0.8485014\tbest: 0.8485014 (0)\ttotal: 5.38ms\tremaining: 8.06s\n",
      "200:\ttest: 0.9993932\tbest: 0.9993932 (200)\ttotal: 1.01s\tremaining: 6.55s\n",
      "400:\ttest: 1.0000000\tbest: 1.0000000 (280)\ttotal: 2.1s\tremaining: 5.76s\n",
      "600:\ttest: 1.0000000\tbest: 1.0000000 (280)\ttotal: 3.19s\tremaining: 4.77s\n",
      "800:\ttest: 1.0000000\tbest: 1.0000000 (280)\ttotal: 4.19s\tremaining: 3.66s\n",
      "1000:\ttest: 1.0000000\tbest: 1.0000000 (280)\ttotal: 5.17s\tremaining: 2.58s\n",
      "1200:\ttest: 1.0000000\tbest: 1.0000000 (280)\ttotal: 6.17s\tremaining: 1.53s\n",
      "1400:\ttest: 1.0000000\tbest: 1.0000000 (280)\ttotal: 7.14s\tremaining: 504ms\n",
      "1499:\ttest: 1.0000000\tbest: 1.0000000 (280)\ttotal: 7.69s\tremaining: 0us\n",
      "\n",
      "bestTest = 1\n",
      "bestIteration = 280\n",
      "\n",
      "Shrink model to first 281 iterations.\n"
     ]
    },
    {
     "data": {
      "text/plain": [
       "<catboost.core.CatBoostClassifier at 0x17c47cbc7a0>"
      ]
     },
     "execution_count": 69,
     "metadata": {},
     "output_type": "execute_result"
    }
   ],
   "source": [
    "best_params = study.best_params\n",
    "best_params.update({\n",
    "    \"loss_function\":\"Logloss\",\n",
    "    \"eval_metric\"  :\"AUC\",\n",
    "    \"iterations\"   :1500,\n",
    "    \"verbose\"      :200,\n",
    "    \"random_seed\"  :42,\n",
    "    \"class_weights\":[1, y_train.value_counts()[0]/y_train.value_counts()[1]]\n",
    "})\n",
    "\n",
    "best_model = CatBoostClassifier(**best_params)\n",
    "best_model.fit(train_pool, eval_set=train_pool, use_best_model=True)"
   ]
  },
  {
   "cell_type": "markdown",
   "id": "3ac929ae",
   "metadata": {},
   "source": [
    "### 4.5 Threshold Optimization"
   ]
  },
  {
   "cell_type": "code",
   "execution_count": 70,
   "id": "7fcf0877",
   "metadata": {},
   "outputs": [
    {
     "name": "stdout",
     "output_type": "stream",
     "text": [
      "Threshold chosen: 0.62  (train acc 100.00%)\n"
     ]
    }
   ],
   "source": [
    "proba_val = best_model.predict_proba(train_pool)[:,1]\n",
    "thr_space = np.linspace(0.2,0.8,61)\n",
    "best_thr, best_acc = 0.5,0\n",
    "for thr in thr_space:\n",
    "    acc = accuracy_score(y_train,(proba_val>=thr).astype(int))\n",
    "    if acc>best_acc:\n",
    "        best_acc,best_thr=acc,thr\n",
    "print(f'Threshold chosen: {best_thr:.2f}  (train acc {best_acc*100:.2f}%)')"
   ]
  },
  {
   "cell_type": "markdown",
   "id": "b1102760",
   "metadata": {},
   "source": [
    "## 5 Evaluation (Hold‑out test)"
   ]
  },
  {
   "cell_type": "code",
   "execution_count": 71,
   "id": "06f1d917",
   "metadata": {},
   "outputs": [
    {
     "name": "stdout",
     "output_type": "stream",
     "text": [
      "Accuracy  : 86.32 %\n",
      "Precision : 0.68\n",
      "Recall    : 0.36\n",
      "F1        : 0.47\n",
      "ROC‑AUC   : 0.821\n",
      "\n",
      "Report:\n",
      "               precision    recall  f1-score   support\n",
      "\n",
      "         0.0       0.88      0.97      0.92       176\n",
      "         1.0       0.68      0.36      0.47        36\n",
      "\n",
      "    accuracy                           0.86       212\n",
      "   macro avg       0.78      0.66      0.70       212\n",
      "weighted avg       0.85      0.86      0.85       212\n",
      "\n",
      "Confusion:\n",
      " [[170   6]\n",
      " [ 23  13]]\n"
     ]
    }
   ],
   "source": [
    "proba_test = best_model.predict_proba(X_test_enc)[:,1]\n",
    "y_pred     = (proba_test>=best_thr).astype(int)\n",
    "\n",
    "print('Accuracy  :',round(accuracy_score(y_test,y_pred)*100,2),'%')\n",
    "print('Precision :',round(precision_score(y_test,y_pred),2))\n",
    "print('Recall    :',round(recall_score(y_test,y_pred),2))\n",
    "print('F1        :',round(f1_score(y_test,y_pred),2))\n",
    "print('ROC‑AUC   :',round(roc_auc_score(y_test,proba_test),3))\n",
    "print('\\nReport:\\n',classification_report(y_test,y_pred))\n",
    "print('Confusion:\\n',confusion_matrix(y_test,y_pred))"
   ]
  },
  {
   "cell_type": "markdown",
   "id": "ef9cb4c5",
   "metadata": {},
   "source": [
    "## 6 Save Model Bundle"
   ]
  },
  {
   "cell_type": "code",
   "execution_count": 72,
   "id": "7951c89c",
   "metadata": {},
   "outputs": [
    {
     "name": "stdout",
     "output_type": "stream",
     "text": [
      "Saved → attrition_model.pkl\n"
     ]
    }
   ],
   "source": [
    "bundle = {\n",
    "    \"model\":best_model,\n",
    "    \"encoder\":encoder,\n",
    "    \"thr\":best_thr,\n",
    "    \"train_cols\":X_train_enc.columns.tolist()\n",
    "}\n",
    "joblib.dump(bundle,'attrition_model.pkl')\n",
    "print('Saved → attrition_model.pkl')"
   ]
  },
  {
   "cell_type": "markdown",
   "id": "e516c6f5",
   "metadata": {},
   "source": [
    "## 7 Inference Demo"
   ]
  },
  {
   "cell_type": "code",
   "execution_count": 73,
   "id": "eccdfacc",
   "metadata": {},
   "outputs": [
    {
     "name": "stdout",
     "output_type": "stream",
     "text": [
      "Sample P(Attrition)= 0.187 → STAY\n"
     ]
    }
   ],
   "source": [
    "sample = X_test.iloc[[0]]\n",
    "sample_enc = apply_encode(sample, encoder, X_train_enc.columns)\n",
    "p = best_model.predict_proba(sample_enc)[:,1][0]\n",
    "print('Sample P(Attrition)=',round(p,3),'→', 'LEAVE' if p>=best_thr else 'STAY')"
   ]
  }
 ],
 "metadata": {
  "kernelspec": {
   "display_name": ".venv",
   "language": "python",
   "name": "python3"
  },
  "language_info": {
   "codemirror_mode": {
    "name": "ipython",
    "version": 3
   },
   "file_extension": ".py",
   "mimetype": "text/x-python",
   "name": "python",
   "nbconvert_exporter": "python",
   "pygments_lexer": "ipython3",
   "version": "3.12.10"
  }
 },
 "nbformat": 4,
 "nbformat_minor": 5
}
